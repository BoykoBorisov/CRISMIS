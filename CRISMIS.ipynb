{
 "cells": [
  {
   "cell_type": "code",
   "execution_count": 3,
   "metadata": {},
   "outputs": [
    {
     "name": "stdout",
     "output_type": "stream",
     "text": [
      "Requirement already satisfied: lacosmic in c:\\users\\boyko\\appdata\\local\\programs\\python\\python38\\lib\\site-packages (0.1.1)\n",
      "Requirement already satisfied: astropy in c:\\users\\boyko\\appdata\\local\\programs\\python\\python38\\lib\\site-packages (from lacosmic) (4.2)\n",
      "Requirement already satisfied: pyerfa in c:\\users\\boyko\\appdata\\local\\programs\\python\\python38\\lib\\site-packages (from astropy->lacosmic) (1.7.2)\n",
      "Requirement already satisfied: numpy>=1.17 in c:\\users\\boyko\\appdata\\local\\programs\\python\\python38\\lib\\site-packages (from astropy->lacosmic) (1.20.2)\n",
      "Note: you may need to restart the kernel to use updated packages.\n"
     ]
    }
   ],
   "source": [
    "pip install lacosmic"
   ]
  },
  {
   "cell_type": "code",
   "execution_count": 44,
   "metadata": {},
   "outputs": [
    {
     "name": "stdout",
     "output_type": "stream",
     "text": [
      "Collecting tensorflow-gpu\n",
      "  Downloading tensorflow_gpu-2.4.1-cp38-cp38-win_amd64.whl (370.7 MB)\n",
      "Requirement already satisfied: h5py~=2.10.0 in c:\\users\\boyko\\appdata\\local\\programs\\python\\python38\\lib\\site-packages (from tensorflow-gpu) (2.10.0)\n",
      "Requirement already satisfied: wrapt~=1.12.1 in c:\\users\\boyko\\appdata\\local\\programs\\python\\python38\\lib\\site-packages (from tensorflow-gpu) (1.12.1)\n",
      "Requirement already satisfied: absl-py~=0.10 in c:\\users\\boyko\\appdata\\local\\programs\\python\\python38\\lib\\site-packages (from tensorflow-gpu) (0.12.0)\n",
      "Requirement already satisfied: wheel~=0.35 in c:\\users\\boyko\\appdata\\local\\programs\\python\\python38\\lib\\site-packages (from tensorflow-gpu) (0.36.2)\n",
      "Requirement already satisfied: opt-einsum~=3.3.0 in c:\\users\\boyko\\appdata\\local\\programs\\python\\python38\\lib\\site-packages (from tensorflow-gpu) (3.3.0)\n",
      "Requirement already satisfied: astunparse~=1.6.3 in c:\\users\\boyko\\appdata\\local\\programs\\python\\python38\\lib\\site-packages (from tensorflow-gpu) (1.6.3)\n",
      "Requirement already satisfied: keras-preprocessing~=1.1.2 in c:\\users\\boyko\\appdata\\local\\programs\\python\\python38\\lib\\site-packages (from tensorflow-gpu) (1.1.2)\n",
      "Requirement already satisfied: numpy~=1.19.2 in c:\\users\\boyko\\appdata\\local\\programs\\python\\python38\\lib\\site-packages (from tensorflow-gpu) (1.19.5)\n",
      "Requirement already satisfied: termcolor~=1.1.0 in c:\\users\\boyko\\appdata\\local\\programs\\python\\python38\\lib\\site-packages (from tensorflow-gpu) (1.1.0)\n",
      "Requirement already satisfied: flatbuffers~=1.12.0 in c:\\users\\boyko\\appdata\\local\\programs\\python\\python38\\lib\\site-packages (from tensorflow-gpu) (1.12)\n",
      "Requirement already satisfied: tensorflow-estimator<2.5.0,>=2.4.0 in c:\\users\\boyko\\appdata\\local\\programs\\python\\python38\\lib\\site-packages (from tensorflow-gpu) (2.4.0)\n",
      "Requirement already satisfied: protobuf>=3.9.2 in c:\\users\\boyko\\appdata\\local\\programs\\python\\python38\\lib\\site-packages (from tensorflow-gpu) (3.15.6)\n",
      "Requirement already satisfied: tensorboard~=2.4 in c:\\users\\boyko\\appdata\\local\\programs\\python\\python38\\lib\\site-packages (from tensorflow-gpu) (2.4.1)\n",
      "Requirement already satisfied: grpcio~=1.32.0 in c:\\users\\boyko\\appdata\\local\\programs\\python\\python38\\lib\\site-packages (from tensorflow-gpu) (1.32.0)\n",
      "Requirement already satisfied: six~=1.15.0 in c:\\users\\boyko\\appdata\\local\\programs\\python\\python38\\lib\\site-packages (from tensorflow-gpu) (1.15.0)\n",
      "Requirement already satisfied: google-pasta~=0.2 in c:\\users\\boyko\\appdata\\local\\programs\\python\\python38\\lib\\site-packages (from tensorflow-gpu) (0.2.0)\n",
      "Requirement already satisfied: typing-extensions~=3.7.4 in c:\\users\\boyko\\appdata\\local\\programs\\python\\python38\\lib\\site-packages (from tensorflow-gpu) (3.7.4.3)\n",
      "Requirement already satisfied: gast==0.3.3 in c:\\users\\boyko\\appdata\\local\\programs\\python\\python38\\lib\\site-packages (from tensorflow-gpu) (0.3.3)\n",
      "Requirement already satisfied: tensorboard-plugin-wit>=1.6.0 in c:\\users\\boyko\\appdata\\local\\programs\\python\\python38\\lib\\site-packages (from tensorboard~=2.4->tensorflow-gpu) (1.8.0)\n",
      "Requirement already satisfied: setuptools>=41.0.0 in c:\\users\\boyko\\appdata\\local\\programs\\python\\python38\\lib\\site-packages (from tensorboard~=2.4->tensorflow-gpu) (41.2.0)\n",
      "Requirement already satisfied: markdown>=2.6.8 in c:\\users\\boyko\\appdata\\local\\programs\\python\\python38\\lib\\site-packages (from tensorboard~=2.4->tensorflow-gpu) (3.3.4)\n",
      "Requirement already satisfied: google-auth-oauthlib<0.5,>=0.4.1 in c:\\users\\boyko\\appdata\\local\\programs\\python\\python38\\lib\\site-packages (from tensorboard~=2.4->tensorflow-gpu) (0.4.3)\n",
      "Requirement already satisfied: requests<3,>=2.21.0 in c:\\users\\boyko\\appdata\\local\\programs\\python\\python38\\lib\\site-packages (from tensorboard~=2.4->tensorflow-gpu) (2.25.1)\n",
      "Requirement already satisfied: google-auth<2,>=1.6.3 in c:\\users\\boyko\\appdata\\local\\programs\\python\\python38\\lib\\site-packages (from tensorboard~=2.4->tensorflow-gpu) (1.28.0)\n",
      "Requirement already satisfied: werkzeug>=0.11.15 in c:\\users\\boyko\\appdata\\local\\programs\\python\\python38\\lib\\site-packages (from tensorboard~=2.4->tensorflow-gpu) (1.0.1)\n",
      "Requirement already satisfied: rsa<5,>=3.1.4 in c:\\users\\boyko\\appdata\\local\\programs\\python\\python38\\lib\\site-packages (from google-auth<2,>=1.6.3->tensorboard~=2.4->tensorflow-gpu) (4.7.2)\n",
      "Requirement already satisfied: cachetools<5.0,>=2.0.0 in c:\\users\\boyko\\appdata\\local\\programs\\python\\python38\\lib\\site-packages (from google-auth<2,>=1.6.3->tensorboard~=2.4->tensorflow-gpu) (4.2.1)\n",
      "Requirement already satisfied: pyasn1-modules>=0.2.1 in c:\\users\\boyko\\appdata\\local\\programs\\python\\python38\\lib\\site-packages (from google-auth<2,>=1.6.3->tensorboard~=2.4->tensorflow-gpu) (0.2.8)\n",
      "Requirement already satisfied: requests-oauthlib>=0.7.0 in c:\\users\\boyko\\appdata\\local\\programs\\python\\python38\\lib\\site-packages (from google-auth-oauthlib<0.5,>=0.4.1->tensorboard~=2.4->tensorflow-gpu) (1.3.0)\n",
      "Requirement already satisfied: pyasn1<0.5.0,>=0.4.6 in c:\\users\\boyko\\appdata\\local\\programs\\python\\python38\\lib\\site-packages (from pyasn1-modules>=0.2.1->google-auth<2,>=1.6.3->tensorboard~=2.4->tensorflow-gpu) (0.4.8)\n",
      "Requirement already satisfied: urllib3<1.27,>=1.21.1 in c:\\users\\boyko\\appdata\\local\\programs\\python\\python38\\lib\\site-packages (from requests<3,>=2.21.0->tensorboard~=2.4->tensorflow-gpu) (1.26.4)\n",
      "Requirement already satisfied: certifi>=2017.4.17 in c:\\users\\boyko\\appdata\\local\\programs\\python\\python38\\lib\\site-packages (from requests<3,>=2.21.0->tensorboard~=2.4->tensorflow-gpu) (2020.12.5)\n",
      "Requirement already satisfied: chardet<5,>=3.0.2 in c:\\users\\boyko\\appdata\\local\\programs\\python\\python38\\lib\\site-packages (from requests<3,>=2.21.0->tensorboard~=2.4->tensorflow-gpu) (4.0.0)\n",
      "Requirement already satisfied: idna<3,>=2.5 in c:\\users\\boyko\\appdata\\local\\programs\\python\\python38\\lib\\site-packages (from requests<3,>=2.21.0->tensorboard~=2.4->tensorflow-gpu) (2.10)\n",
      "Requirement already satisfied: oauthlib>=3.0.0 in c:\\users\\boyko\\appdata\\local\\programs\\python\\python38\\lib\\site-packages (from requests-oauthlib>=0.7.0->google-auth-oauthlib<0.5,>=0.4.1->tensorboard~=2.4->tensorflow-gpu) (3.1.0)\n",
      "Installing collected packages: tensorflow-gpu\n",
      "Note: you may need to restart the kernel to use updated packages.\n"
     ]
    },
    {
     "name": "stderr",
     "output_type": "stream",
     "text": [
      "ERROR: Could not install packages due to an OSError: [WinError 5] Access is denied: 'C:\\\\Users\\\\Boyko\\\\AppData\\\\Local\\\\Programs\\\\Python\\\\Python38\\\\Lib\\\\site-packages\\\\tensorflow\\\\lite\\\\experimental\\\\microfrontend\\\\python\\\\ops\\\\_audio_microfrontend_op.so'\n",
      "Consider using the `--user` option or check the permissions.\n",
      "\n"
     ]
    }
   ],
   "source": [
    "pip install tensorflow-gpu"
   ]
  },
  {
   "cell_type": "code",
   "execution_count": 10,
   "metadata": {},
   "outputs": [
    {
     "ename": "SyntaxError",
     "evalue": "invalid syntax (<ipython-input-10-a6473ff05788>, line 1)",
     "output_type": "error",
     "traceback": [
      "\u001b[1;36m  File \u001b[1;32m\"<ipython-input-10-a6473ff05788>\"\u001b[1;36m, line \u001b[1;32m1\u001b[0m\n\u001b[1;33m    pip install Pillow\u001b[0m\n\u001b[1;37m        ^\u001b[0m\n\u001b[1;31mSyntaxError\u001b[0m\u001b[1;31m:\u001b[0m invalid syntax\n"
     ]
    }
   ],
   "source": [
    "pip install Pillow"
   ]
  },
  {
   "cell_type": "code",
   "execution_count": 11,
   "metadata": {},
   "outputs": [
    {
     "name": "stdout",
     "output_type": "stream",
     "text": [
      "Collecting matplotlib\n",
      "  Downloading matplotlib-3.4.0-cp38-cp38-win_amd64.whl (7.1 MB)\n",
      "Requirement already satisfied: python-dateutil>=2.7 in c:\\users\\boyko\\appdata\\local\\programs\\python\\python38\\lib\\site-packages (from matplotlib) (2.8.1)\n",
      "Collecting cycler>=0.10\n",
      "  Downloading cycler-0.10.0-py2.py3-none-any.whl (6.5 kB)\n",
      "Requirement already satisfied: pillow>=6.2.0 in c:\\users\\boyko\\appdata\\local\\programs\\python\\python38\\lib\\site-packages (from matplotlib) (8.1.2)\n",
      "Requirement already satisfied: numpy>=1.16 in c:\\users\\boyko\\appdata\\local\\programs\\python\\python38\\lib\\site-packages (from matplotlib) (1.19.5)\n",
      "Requirement already satisfied: pyparsing>=2.2.1 in c:\\users\\boyko\\appdata\\local\\programs\\python\\python38\\lib\\site-packages (from matplotlib) (2.4.7)\n",
      "Collecting kiwisolver>=1.0.1\n",
      "  Downloading kiwisolver-1.3.1-cp38-cp38-win_amd64.whl (51 kB)\n",
      "Requirement already satisfied: six in c:\\users\\boyko\\appdata\\local\\programs\\python\\python38\\lib\\site-packages (from cycler>=0.10->matplotlib) (1.15.0)\n",
      "Installing collected packages: kiwisolver, cycler, matplotlib\n",
      "Successfully installed cycler-0.10.0 kiwisolver-1.3.1 matplotlib-3.4.0\n",
      "Note: you may need to restart the kernel to use updated packages.\n"
     ]
    }
   ],
   "source": [
    "pip install matplotlib"
   ]
  },
  {
   "cell_type": "code",
   "execution_count": 13,
   "metadata": {},
   "outputs": [
    {
     "name": "stdout",
     "output_type": "stream",
     "text": [
      "Collecting bs4\n",
      "  Downloading bs4-0.0.1.tar.gz (1.1 kB)\n",
      "Collecting beautifulsoup4\n",
      "  Downloading beautifulsoup4-4.9.3-py3-none-any.whl (115 kB)\n",
      "Collecting soupsieve>1.2\n",
      "  Downloading soupsieve-2.2.1-py3-none-any.whl (33 kB)\n",
      "Building wheels for collected packages: bs4\n",
      "  Building wheel for bs4 (setup.py): started\n",
      "  Building wheel for bs4 (setup.py): finished with status 'done'\n",
      "  Created wheel for bs4: filename=bs4-0.0.1-py3-none-any.whl size=1273 sha256=04e94801a248e0dd2a7e457b63500ed8de6e3c264945156b337e72aa5a90ca37\n",
      "  Stored in directory: c:\\users\\boyko\\appdata\\local\\pip\\cache\\wheels\\75\\78\\21\\68b124549c9bdc94f822c02fb9aa3578a669843f9767776bca\n",
      "Successfully built bs4\n",
      "Installing collected packages: soupsieve, beautifulsoup4, bs4\n",
      "Successfully installed beautifulsoup4-4.9.3 bs4-0.0.1 soupsieve-2.2.1\n",
      "Note: you may need to restart the kernel to use updated packages.\n"
     ]
    }
   ],
   "source": [
    "pip install bs4"
   ]
  },
  {
   "cell_type": "code",
   "execution_count": 37,
   "metadata": {},
   "outputs": [
    {
     "name": "stdout",
     "output_type": "stream",
     "text": [
      "Collecting scipyNote: you may need to restart the kernel to use updated packages.\n",
      "  Downloading scipy-1.6.2-cp38-cp38-win_amd64.whl (32.7 MB)\n",
      "Requirement already satisfied: numpy<1.23.0,>=1.16.5 in c:\\users\\boyko\\appdata\\local\\programs\\python\\python38\\lib\\site-packages (from scipy) (1.19.5)\n",
      "Installing collected packages: scipy\n",
      "Successfully installed scipy-1.6.2\n",
      "\n"
     ]
    }
   ],
   "source": [
    "pip install scipy"
   ]
  },
  {
   "cell_type": "code",
   "execution_count": 176,
   "metadata": {},
   "outputs": [],
   "source": [
    "from PIL import Image, ImageEnhance\n",
    "import matplotlib.pyplot as plt\n",
    "from io import BytesIO\n",
    "import re\n",
    "import os\n",
    "import requests\n",
    "import numpy as np\n",
    "from bs4 import BeautifulSoup\n",
    "import lacosmic\n",
    "import random\n",
    "import tensorflow as tf"
   ]
  },
  {
   "cell_type": "code",
   "execution_count": 177,
   "metadata": {},
   "outputs": [],
   "source": [
    "BASE_URL = \"https://pdsimage2.wr.usgs.gov/archive/mess-e_v_h-mdis-2-edr-rawdata-v1.0/MSGRMDS_1001/DATA/\""
   ]
  },
  {
   "cell_type": "code",
   "execution_count": 98,
   "metadata": {},
   "outputs": [],
   "source": [
    "class Loader:\n",
    "    def __init__(self, base_url = BASE_URL):\n",
    "        self.base_url = base_url\n",
    "        if not os.path.exists(\"Images\"):\n",
    "            os.mkdir(\"Images\")\n",
    "    \n",
    "    def get_time(self, year, day):\n",
    "        return \"_\".join([year, day])\n",
    "    \n",
    "    def get_folder_path(self, year, day):\n",
    "        return \"/\".join([\"Images\", self.get_time(year, day), \"img\"])\n",
    "    \n",
    "    def get_file_path(self, year, day, image):\n",
    "        return \"/\".join([self.get_folder_path(year, day), image])\n",
    "    \n",
    "    def image_exists(self, year, day, image): \n",
    "        folder_path = \"/\".join([\"Images\", self.get_time(year, day), \"img\"])\n",
    "        filepath = self.get_folder_path(year, day)\n",
    "        if not os.path.exists(filepath):\n",
    "            return False\n",
    "        return os.path.exists(filepath + \"/\" + image)\n",
    "    \n",
    "    def download_image(self, year, day, image):\n",
    "        if self.image_exists(year, day, image):\n",
    "            return None\n",
    "         \n",
    "        path = \"_\".join([year, day])\n",
    "        \n",
    "        if not os.path.exists(\"/\".join([\"Images\", path])):\n",
    "            os.mkdir(\"/\".join([\"Images\", path]))\n",
    "            \n",
    "        filepath = \"/\".join([\"Images\", path, \"img\"])\n",
    "        if not os.path.exists(filepath):\n",
    "            os.mkdir(filepath)\n",
    "            \n",
    "        url = \"/\".join([self.base_url, path, image])\n",
    "        r = requests.get(url)\n",
    "        open(\"/\".join([filepath, image]), 'wb').write(r.content)\n",
    "    \n",
    "    def process_img(self, year, day, image):\n",
    "        img_file = open(self.get_file_path(year, day, image), \"rb\")\n",
    "        img_bytes = bytearray()\n",
    "        reading_header = True\n",
    "        rows = None\n",
    "        cols = None\n",
    "        sample_bits = None\n",
    "        for line in img_file.readlines():\n",
    "            if not reading_header:\n",
    "                img_bytes.extend(line)\n",
    "            else:\n",
    "                header_line = line.strip().decode(\"utf-8\")\n",
    "                if \"END\" == header_line:\n",
    "                    reading_header = False\n",
    "                elif \"LINES\" in header_line:\n",
    "                    rows = int(header_line.split(\"=\")[1])\n",
    "                elif \"LINE_SAMPLES\" in header_line:\n",
    "                    cols = int(header_line.split(\"=\")[1])\n",
    "                elif \"SAMPLE_BITS\" in header_line:\n",
    "                    sample_bits = header_line.split(\"=\")[1].strip()\n",
    "        \n",
    "        img_sample_bits = np.frombuffer(\n",
    "            img_bytes,\n",
    "            dtype=\"uint\" + sample_bits\n",
    "        )\n",
    "        \n",
    "        extra_byte_count = img_sample_bits.size - rows * cols\n",
    "        img_sample_bits = img_sample_bits[extra_byte_count:]\n",
    "        img_resized = np.resize(img_sample_bits, (rows,cols))\n",
    "        return Image.fromarray(img_resized)\n",
    "    \n",
    "    def convert_all_to_png(self, year, day):\n",
    "        png_dir = \"/\".join([\"Images\", self.get_time(year, day), \"png\"])\n",
    "        if not os.path.exists(png_dir):\n",
    "            os.mkdir(png_dir)\n",
    "        pngs = set(os.listdir(png_dir))\n",
    "        imgs = os.listdir(\"/\".join([\"Images\", self.get_time(year, day), \"img\"]))\n",
    "        for img in imgs:\n",
    "            #print(img)\n",
    "            if not img + \".png\" in pngs:\n",
    "                try:\n",
    "                    im = self.process_img(year, day, img)\n",
    "                    im.save(\"/\".join([png_dir, img]) + \".png\",format=\"png\")\n",
    "                except:\n",
    "                    print(\"FAILED:\" + img)\n",
    "                    \n",
    "    def download_and_display_image(self, year, day, image, display=False):\n",
    "        self.download_image(year, day, image)\n",
    "        im = self.process_img(year, day, image)\n",
    "        if display:\n",
    "            plt.figure()\n",
    "            plt.imshow(np.asarray(im), cmap=\"gray\", vmin=0, vmax=255)\n",
    "#             im = Image.open(\"\")\n",
    "#            im.show()\n",
    "        \n",
    "    def download_and_display_all_images_from_folder(self, year, day, display=False):\n",
    "        time = self.get_time(year, day)\n",
    "        url = \"/\".join([self.base_url, time])\n",
    "        request = requests.get(url)\n",
    "        soup = BeautifulSoup(request.content, \"html.parser\")\n",
    "        print(\"Retrieving folder content\")\n",
    "        images = soup.find_all(\"a\", text=re.compile(\".IMG\"))\n",
    "        x = 0\n",
    "        for image in images:\n",
    "            print(x)\n",
    "            self.download_and_display_image(year, day, image.get_text(), display)\n",
    "            x += 1\n",
    "            print(str(x) + \"/\" + str(len(images)), end=\"\\r\", flush=True)"
   ]
  },
  {
   "cell_type": "code",
   "execution_count": 182,
   "metadata": {},
   "outputs": [],
   "source": [
    "def get_bounding_box(r, c, mask):\n",
    "    padding = 30\n",
    "    dirs =  []\n",
    "    for p in range(1, padding):\n",
    "        dirs.append([0, p])\n",
    "        dirs.append([p, 0])\n",
    "        dirs.append([0, -p])\n",
    "        dirs.append([-p, 0])\n",
    "        dirs.append([p, p])\n",
    "        dirs.append([p, -p])\n",
    "        dirs.append([-p, p])\n",
    "        dirs.append([-p, -p])\n",
    "    max_r = r\n",
    "    min_r = r\n",
    "    max_c = c\n",
    "    min_c = c\n",
    "    q = []\n",
    "    q.append([r, c])\n",
    "    while (len(q) > 0):\n",
    "        [cr, cc] = q.pop(0)\n",
    "        mask[cr, cc] = False\n",
    "        for d in dirs:\n",
    "            nr = cr + d[0]\n",
    "            nc = cc + d[1]\n",
    "            if nr > 0 and nr < len(mask) and nc > 0 and nc < len(mask[0]):\n",
    "                max_r = max(nr, max_r)\n",
    "                min_r = min(nr, min_r)\n",
    "                max_c = max(nc, max_c)\n",
    "                min_c = min(nc, min_c)\n",
    "            if nr > 0 and nr < len(mask) and nc > 0 and nc < len(mask[0]) and mask[nr][nc]:\n",
    "                mask[nr, nc] = False\n",
    "                q.append([nr, nc])\n",
    "    return [max_r, min_r, max_c, min_c]\n",
    "    \n",
    "class Image_processor:\n",
    "    def __init__(self, year, day):\n",
    "        self.day_path = \"/\".join([\"Images\", year + \"_\" + day, \"png\"])\n",
    "    \n",
    "    def process_single_image_cosmic_rays(self, image):\n",
    "        folder_name = self.day_path + \"/\" + image + \"_\" + \"processed\"\n",
    "        if not os.path.exists(folder_name):\n",
    "            os.mkdir(folder_name)\n",
    "        imgpath = self.day_path + \"/\" + image\n",
    "        imgpng = np.array(Image.open(imgpath).convert(\"L\"))\n",
    "        print(imgpng.shape)\n",
    "        (img, mask) = lacosmic.lacosmic(imgpng.astype(np.float), contrast=3.0, cr_threshold=3.75, \n",
    "                                        neighbor_threshold=0.3, effective_gain=1.0,\n",
    "                                        readnoise= 4.5, maxiter=1, border_mode=u'mirror',\n",
    "                                        background=None, mask=None, error=None)\n",
    "        \n",
    "        boxes = []\n",
    "        print(\"Getting bounding boxes\")\n",
    "        for r in range(len(mask)):\n",
    "            for c in range(len(mask[0])):\n",
    "                if mask[r, c]:\n",
    "                    boxes.append(get_bounding_box(r, c, mask))\n",
    "        \n",
    "        #im = Image.fromarray(np.where(mask == False, img, 0))#img)\n",
    "        print(\"Number of boxes: \" + str(len(boxes)))\n",
    "        im = Image.fromarray(img)\n",
    "        i = 1\n",
    "        for box in boxes:\n",
    "            for x in range(len(box)):\n",
    "                r = random.random()\n",
    "                if r < 0.1:\n",
    "                    box[x] += 10\n",
    "                if r >= 0.95:\n",
    "                    box[x] += + 15\n",
    "            [max_r, min_r, max_c, min_c] = box\n",
    "            cosmic_ray_candidate = Image.open(imgpath).crop((min_c, min_r, max_c, max_r)).convert(\"RGB\")\n",
    "            cosmic_ray_candidate.save(folder_name + \"/\" + str(i) + \".png\")#, format=\"png\")\n",
    "            i += 1\n",
    "    \n",
    "    def process_folder_cosmic_rays(self):\n",
    "        j = 0\n",
    "        m = len(os.listdir(self.day_path))\n",
    "        for file in os.listdir(self.day_path):\n",
    "#             print (str(j) + \"/\" + str(m))\n",
    "            j += 1\n",
    "            if file.endswith(\".png\"):\n",
    "                self.process_single_image_cosmic_rays(file)\n",
    "                \n",
    "    def process_single_image_random_sample(self, image):\n",
    "        folder_name = self.day_path + \"/\" + image + \"_\" + \"processed\"\n",
    "        if not os.path.exists(folder_name):\n",
    "            os.mkdir(folder_name)\n",
    "        imgpath = self.day_path + \"/\" + image\n",
    "        img = Image.open(imgpath)\n",
    "        max_width, max_height = img.size\n",
    "        cols = np.random.randint(low = 1, high = max_width, size = 120)\n",
    "        rows = np.random.randint(low = 1, high = max_height, size = 120)\n",
    "        for i in range(120):\n",
    "            default_padding = 30\n",
    "            borders = [max(0, cols[i] - 30), max(0, rows[i] - 30), min(cols[i] + 30, max_width - 1), min(rows[i] + 30, max_height - 1)]\n",
    "            for x in range(len(borders)):\n",
    "                r = random.random()\n",
    "                if r < 0.1:\n",
    "                    borders[x] += 10\n",
    "                if r >= 0.95:\n",
    "                    borders[x] += + 15\n",
    "            random_img = img.crop((borders[0], borders[1], borders[2], borders[3])).convert(\"RGB\")\n",
    "            random_img.save(folder_name + \"/\" + str(i) + \".png\")\n",
    "\n",
    "    def process_folder_random_images(self):\n",
    "        j = 0\n",
    "        m = len(os.listdir(self.day_path))\n",
    "        for file in os.listdir(self.day_path):\n",
    "#             print (str(j) + \"/\" + str(m), end=\"\\r\", flush=True)\n",
    "#             j += 1\n",
    "            if file.endswith(\".png\"):\n",
    "                self.process_single_image_random_sample(file)\n",
    "    \n",
    "    def get_data_single_image(self, directory_path):\n",
    "        images = []\n",
    "        for file in os.listdir(directory_path):\n",
    "            img = Image.open(directory_path + \"/\" + file).resize((50, 50))\n",
    "            img = ImageEnhance.Contrast(img).enhance(3)\n",
    "            im = np.array(img, dtype=\"f\")\n",
    "            images.append(im)\n",
    "        return np.array(images, dtype=\"f\")\n",
    "    \n",
    "    def load_day(self):\n",
    "        samples = []\n",
    "        i = 0\n",
    "        j = len(os.listdir(self.day_path))\n",
    "        for file in os.listdir(self.day_path):\n",
    "            if file.endswith(\"_processed\"):\n",
    "                image_samples = self.get_data_single_image(self.day_path + \"/\" + file)\n",
    "                samples.extend(image_samples)\n",
    "            i += 1\n",
    "            print (str(i) + \"/\" + str(j), end=\"\\r\", flush=True)\n",
    "        return np.array(samples)"
   ]
  },
  {
   "cell_type": "markdown",
   "metadata": {},
   "source": [
    "# Step 1 – Retrieving and Plotting Image Files\n",
    "### The utility Loader defined above class was developed for this task, which facilitates downloading and storing images in the file structure assumed by the tools for the other task and plotting images"
   ]
  },
  {
   "cell_type": "code",
   "execution_count": 168,
   "metadata": {},
   "outputs": [
    {
     "ename": "KeyboardInterrupt",
     "evalue": "",
     "output_type": "error",
     "traceback": [
      "\u001b[1;31m---------------------------------------------------------------------------\u001b[0m",
      "\u001b[1;31mTimeoutError\u001b[0m                              Traceback (most recent call last)",
      "\u001b[1;32m~\\AppData\\Local\\Programs\\Python\\Python38\\lib\\site-packages\\urllib3\\util\\connection.py\u001b[0m in \u001b[0;36mcreate_connection\u001b[1;34m(address, timeout, source_address, socket_options)\u001b[0m\n\u001b[0;32m     85\u001b[0m                 \u001b[0msock\u001b[0m\u001b[1;33m.\u001b[0m\u001b[0mbind\u001b[0m\u001b[1;33m(\u001b[0m\u001b[0msource_address\u001b[0m\u001b[1;33m)\u001b[0m\u001b[1;33m\u001b[0m\u001b[1;33m\u001b[0m\u001b[0m\n\u001b[1;32m---> 86\u001b[1;33m             \u001b[0msock\u001b[0m\u001b[1;33m.\u001b[0m\u001b[0mconnect\u001b[0m\u001b[1;33m(\u001b[0m\u001b[0msa\u001b[0m\u001b[1;33m)\u001b[0m\u001b[1;33m\u001b[0m\u001b[1;33m\u001b[0m\u001b[0m\n\u001b[0m\u001b[0;32m     87\u001b[0m             \u001b[1;32mreturn\u001b[0m \u001b[0msock\u001b[0m\u001b[1;33m\u001b[0m\u001b[1;33m\u001b[0m\u001b[0m\n",
      "\u001b[1;31mTimeoutError\u001b[0m: [WinError 10060] A connection attempt failed because the connected party did not properly respond after a period of time, or established connection failed because connected host has failed to respond",
      "\nDuring handling of the above exception, another exception occurred:\n",
      "\u001b[1;31mKeyboardInterrupt\u001b[0m                         Traceback (most recent call last)",
      "\u001b[1;32m<ipython-input-168-a2b89c870923>\u001b[0m in \u001b[0;36m<module>\u001b[1;34m\u001b[0m\n\u001b[0;32m      1\u001b[0m \u001b[0ml\u001b[0m \u001b[1;33m=\u001b[0m \u001b[0mLoader\u001b[0m\u001b[1;33m(\u001b[0m\u001b[1;33m)\u001b[0m\u001b[1;33m\u001b[0m\u001b[1;33m\u001b[0m\u001b[0m\n\u001b[1;32m----> 2\u001b[1;33m \u001b[0ml\u001b[0m\u001b[1;33m.\u001b[0m\u001b[0mdownload_and_display_all_images_from_folder\u001b[0m\u001b[1;33m(\u001b[0m\u001b[1;34m\"2011\"\u001b[0m\u001b[1;33m,\u001b[0m \u001b[1;34m\"156\"\u001b[0m\u001b[1;33m,\u001b[0m \u001b[0mdisplay\u001b[0m\u001b[1;33m=\u001b[0m\u001b[1;32mFalse\u001b[0m\u001b[1;33m)\u001b[0m\u001b[1;33m\u001b[0m\u001b[1;33m\u001b[0m\u001b[0m\n\u001b[0m\u001b[0;32m      3\u001b[0m \u001b[1;33m\u001b[0m\u001b[0m\n\u001b[0;32m      4\u001b[0m \u001b[1;31m###TRIAL TASK\u001b[0m\u001b[1;33m\u001b[0m\u001b[1;33m\u001b[0m\u001b[1;33m\u001b[0m\u001b[0m\n\u001b[0;32m      5\u001b[0m \u001b[0ml\u001b[0m\u001b[1;33m.\u001b[0m\u001b[0mdownload_and_display_all_images_from_folder\u001b[0m\u001b[1;33m(\u001b[0m\u001b[1;34m\"2011\"\u001b[0m\u001b[1;33m,\u001b[0m \u001b[1;34m\"207\"\u001b[0m\u001b[1;33m,\u001b[0m \u001b[0mdisplay\u001b[0m\u001b[1;33m=\u001b[0m\u001b[1;32mTrue\u001b[0m\u001b[1;33m)\u001b[0m\u001b[1;33m\u001b[0m\u001b[1;33m\u001b[0m\u001b[0m\n",
      "\u001b[1;32m<ipython-input-98-ac40c5fcffd6>\u001b[0m in \u001b[0;36mdownload_and_display_all_images_from_folder\u001b[1;34m(self, year, day, display)\u001b[0m\n\u001b[0;32m     96\u001b[0m         \u001b[0mtime\u001b[0m \u001b[1;33m=\u001b[0m \u001b[0mself\u001b[0m\u001b[1;33m.\u001b[0m\u001b[0mget_time\u001b[0m\u001b[1;33m(\u001b[0m\u001b[0myear\u001b[0m\u001b[1;33m,\u001b[0m \u001b[0mday\u001b[0m\u001b[1;33m)\u001b[0m\u001b[1;33m\u001b[0m\u001b[1;33m\u001b[0m\u001b[0m\n\u001b[0;32m     97\u001b[0m         \u001b[0murl\u001b[0m \u001b[1;33m=\u001b[0m \u001b[1;34m\"/\"\u001b[0m\u001b[1;33m.\u001b[0m\u001b[0mjoin\u001b[0m\u001b[1;33m(\u001b[0m\u001b[1;33m[\u001b[0m\u001b[0mself\u001b[0m\u001b[1;33m.\u001b[0m\u001b[0mbase_url\u001b[0m\u001b[1;33m,\u001b[0m \u001b[0mtime\u001b[0m\u001b[1;33m]\u001b[0m\u001b[1;33m)\u001b[0m\u001b[1;33m\u001b[0m\u001b[1;33m\u001b[0m\u001b[0m\n\u001b[1;32m---> 98\u001b[1;33m         \u001b[0mrequest\u001b[0m \u001b[1;33m=\u001b[0m \u001b[0mrequests\u001b[0m\u001b[1;33m.\u001b[0m\u001b[0mget\u001b[0m\u001b[1;33m(\u001b[0m\u001b[0murl\u001b[0m\u001b[1;33m)\u001b[0m\u001b[1;33m\u001b[0m\u001b[1;33m\u001b[0m\u001b[0m\n\u001b[0m\u001b[0;32m     99\u001b[0m         \u001b[0msoup\u001b[0m \u001b[1;33m=\u001b[0m \u001b[0mBeautifulSoup\u001b[0m\u001b[1;33m(\u001b[0m\u001b[0mrequest\u001b[0m\u001b[1;33m.\u001b[0m\u001b[0mcontent\u001b[0m\u001b[1;33m,\u001b[0m \u001b[1;34m\"html.parser\"\u001b[0m\u001b[1;33m)\u001b[0m\u001b[1;33m\u001b[0m\u001b[1;33m\u001b[0m\u001b[0m\n\u001b[0;32m    100\u001b[0m         \u001b[0mprint\u001b[0m\u001b[1;33m(\u001b[0m\u001b[1;34m\"Retrieving folder content\"\u001b[0m\u001b[1;33m)\u001b[0m\u001b[1;33m\u001b[0m\u001b[1;33m\u001b[0m\u001b[0m\n",
      "\u001b[1;32m~\\AppData\\Local\\Programs\\Python\\Python38\\lib\\site-packages\\requests\\api.py\u001b[0m in \u001b[0;36mget\u001b[1;34m(url, params, **kwargs)\u001b[0m\n\u001b[0;32m     74\u001b[0m \u001b[1;33m\u001b[0m\u001b[0m\n\u001b[0;32m     75\u001b[0m     \u001b[0mkwargs\u001b[0m\u001b[1;33m.\u001b[0m\u001b[0msetdefault\u001b[0m\u001b[1;33m(\u001b[0m\u001b[1;34m'allow_redirects'\u001b[0m\u001b[1;33m,\u001b[0m \u001b[1;32mTrue\u001b[0m\u001b[1;33m)\u001b[0m\u001b[1;33m\u001b[0m\u001b[1;33m\u001b[0m\u001b[0m\n\u001b[1;32m---> 76\u001b[1;33m     \u001b[1;32mreturn\u001b[0m \u001b[0mrequest\u001b[0m\u001b[1;33m(\u001b[0m\u001b[1;34m'get'\u001b[0m\u001b[1;33m,\u001b[0m \u001b[0murl\u001b[0m\u001b[1;33m,\u001b[0m \u001b[0mparams\u001b[0m\u001b[1;33m=\u001b[0m\u001b[0mparams\u001b[0m\u001b[1;33m,\u001b[0m \u001b[1;33m**\u001b[0m\u001b[0mkwargs\u001b[0m\u001b[1;33m)\u001b[0m\u001b[1;33m\u001b[0m\u001b[1;33m\u001b[0m\u001b[0m\n\u001b[0m\u001b[0;32m     77\u001b[0m \u001b[1;33m\u001b[0m\u001b[0m\n\u001b[0;32m     78\u001b[0m \u001b[1;33m\u001b[0m\u001b[0m\n",
      "\u001b[1;32m~\\AppData\\Local\\Programs\\Python\\Python38\\lib\\site-packages\\requests\\api.py\u001b[0m in \u001b[0;36mrequest\u001b[1;34m(method, url, **kwargs)\u001b[0m\n\u001b[0;32m     59\u001b[0m     \u001b[1;31m# cases, and look like a memory leak in others.\u001b[0m\u001b[1;33m\u001b[0m\u001b[1;33m\u001b[0m\u001b[1;33m\u001b[0m\u001b[0m\n\u001b[0;32m     60\u001b[0m     \u001b[1;32mwith\u001b[0m \u001b[0msessions\u001b[0m\u001b[1;33m.\u001b[0m\u001b[0mSession\u001b[0m\u001b[1;33m(\u001b[0m\u001b[1;33m)\u001b[0m \u001b[1;32mas\u001b[0m \u001b[0msession\u001b[0m\u001b[1;33m:\u001b[0m\u001b[1;33m\u001b[0m\u001b[1;33m\u001b[0m\u001b[0m\n\u001b[1;32m---> 61\u001b[1;33m         \u001b[1;32mreturn\u001b[0m \u001b[0msession\u001b[0m\u001b[1;33m.\u001b[0m\u001b[0mrequest\u001b[0m\u001b[1;33m(\u001b[0m\u001b[0mmethod\u001b[0m\u001b[1;33m=\u001b[0m\u001b[0mmethod\u001b[0m\u001b[1;33m,\u001b[0m \u001b[0murl\u001b[0m\u001b[1;33m=\u001b[0m\u001b[0murl\u001b[0m\u001b[1;33m,\u001b[0m \u001b[1;33m**\u001b[0m\u001b[0mkwargs\u001b[0m\u001b[1;33m)\u001b[0m\u001b[1;33m\u001b[0m\u001b[1;33m\u001b[0m\u001b[0m\n\u001b[0m\u001b[0;32m     62\u001b[0m \u001b[1;33m\u001b[0m\u001b[0m\n\u001b[0;32m     63\u001b[0m \u001b[1;33m\u001b[0m\u001b[0m\n",
      "\u001b[1;32m~\\AppData\\Local\\Programs\\Python\\Python38\\lib\\site-packages\\requests\\sessions.py\u001b[0m in \u001b[0;36mrequest\u001b[1;34m(self, method, url, params, data, headers, cookies, files, auth, timeout, allow_redirects, proxies, hooks, stream, verify, cert, json)\u001b[0m\n\u001b[0;32m    540\u001b[0m         }\n\u001b[0;32m    541\u001b[0m         \u001b[0msend_kwargs\u001b[0m\u001b[1;33m.\u001b[0m\u001b[0mupdate\u001b[0m\u001b[1;33m(\u001b[0m\u001b[0msettings\u001b[0m\u001b[1;33m)\u001b[0m\u001b[1;33m\u001b[0m\u001b[1;33m\u001b[0m\u001b[0m\n\u001b[1;32m--> 542\u001b[1;33m         \u001b[0mresp\u001b[0m \u001b[1;33m=\u001b[0m \u001b[0mself\u001b[0m\u001b[1;33m.\u001b[0m\u001b[0msend\u001b[0m\u001b[1;33m(\u001b[0m\u001b[0mprep\u001b[0m\u001b[1;33m,\u001b[0m \u001b[1;33m**\u001b[0m\u001b[0msend_kwargs\u001b[0m\u001b[1;33m)\u001b[0m\u001b[1;33m\u001b[0m\u001b[1;33m\u001b[0m\u001b[0m\n\u001b[0m\u001b[0;32m    543\u001b[0m \u001b[1;33m\u001b[0m\u001b[0m\n\u001b[0;32m    544\u001b[0m         \u001b[1;32mreturn\u001b[0m \u001b[0mresp\u001b[0m\u001b[1;33m\u001b[0m\u001b[1;33m\u001b[0m\u001b[0m\n",
      "\u001b[1;32m~\\AppData\\Local\\Programs\\Python\\Python38\\lib\\site-packages\\requests\\sessions.py\u001b[0m in \u001b[0;36msend\u001b[1;34m(self, request, **kwargs)\u001b[0m\n\u001b[0;32m    653\u001b[0m \u001b[1;33m\u001b[0m\u001b[0m\n\u001b[0;32m    654\u001b[0m         \u001b[1;31m# Send the request\u001b[0m\u001b[1;33m\u001b[0m\u001b[1;33m\u001b[0m\u001b[1;33m\u001b[0m\u001b[0m\n\u001b[1;32m--> 655\u001b[1;33m         \u001b[0mr\u001b[0m \u001b[1;33m=\u001b[0m \u001b[0madapter\u001b[0m\u001b[1;33m.\u001b[0m\u001b[0msend\u001b[0m\u001b[1;33m(\u001b[0m\u001b[0mrequest\u001b[0m\u001b[1;33m,\u001b[0m \u001b[1;33m**\u001b[0m\u001b[0mkwargs\u001b[0m\u001b[1;33m)\u001b[0m\u001b[1;33m\u001b[0m\u001b[1;33m\u001b[0m\u001b[0m\n\u001b[0m\u001b[0;32m    656\u001b[0m \u001b[1;33m\u001b[0m\u001b[0m\n\u001b[0;32m    657\u001b[0m         \u001b[1;31m# Total elapsed time of the request (approximately)\u001b[0m\u001b[1;33m\u001b[0m\u001b[1;33m\u001b[0m\u001b[1;33m\u001b[0m\u001b[0m\n",
      "\u001b[1;32m~\\AppData\\Local\\Programs\\Python\\Python38\\lib\\site-packages\\requests\\adapters.py\u001b[0m in \u001b[0;36msend\u001b[1;34m(self, request, stream, timeout, verify, cert, proxies)\u001b[0m\n\u001b[0;32m    437\u001b[0m         \u001b[1;32mtry\u001b[0m\u001b[1;33m:\u001b[0m\u001b[1;33m\u001b[0m\u001b[1;33m\u001b[0m\u001b[0m\n\u001b[0;32m    438\u001b[0m             \u001b[1;32mif\u001b[0m \u001b[1;32mnot\u001b[0m \u001b[0mchunked\u001b[0m\u001b[1;33m:\u001b[0m\u001b[1;33m\u001b[0m\u001b[1;33m\u001b[0m\u001b[0m\n\u001b[1;32m--> 439\u001b[1;33m                 resp = conn.urlopen(\n\u001b[0m\u001b[0;32m    440\u001b[0m                     \u001b[0mmethod\u001b[0m\u001b[1;33m=\u001b[0m\u001b[0mrequest\u001b[0m\u001b[1;33m.\u001b[0m\u001b[0mmethod\u001b[0m\u001b[1;33m,\u001b[0m\u001b[1;33m\u001b[0m\u001b[1;33m\u001b[0m\u001b[0m\n\u001b[0;32m    441\u001b[0m                     \u001b[0murl\u001b[0m\u001b[1;33m=\u001b[0m\u001b[0murl\u001b[0m\u001b[1;33m,\u001b[0m\u001b[1;33m\u001b[0m\u001b[1;33m\u001b[0m\u001b[0m\n",
      "\u001b[1;32m~\\AppData\\Local\\Programs\\Python\\Python38\\lib\\site-packages\\urllib3\\connectionpool.py\u001b[0m in \u001b[0;36murlopen\u001b[1;34m(self, method, url, body, headers, retries, redirect, assert_same_host, timeout, pool_timeout, release_conn, chunked, body_pos, **response_kw)\u001b[0m\n\u001b[0;32m    697\u001b[0m \u001b[1;33m\u001b[0m\u001b[0m\n\u001b[0;32m    698\u001b[0m             \u001b[1;31m# Make the request on the httplib connection object.\u001b[0m\u001b[1;33m\u001b[0m\u001b[1;33m\u001b[0m\u001b[1;33m\u001b[0m\u001b[0m\n\u001b[1;32m--> 699\u001b[1;33m             httplib_response = self._make_request(\n\u001b[0m\u001b[0;32m    700\u001b[0m                 \u001b[0mconn\u001b[0m\u001b[1;33m,\u001b[0m\u001b[1;33m\u001b[0m\u001b[1;33m\u001b[0m\u001b[0m\n\u001b[0;32m    701\u001b[0m                 \u001b[0mmethod\u001b[0m\u001b[1;33m,\u001b[0m\u001b[1;33m\u001b[0m\u001b[1;33m\u001b[0m\u001b[0m\n",
      "\u001b[1;32m~\\AppData\\Local\\Programs\\Python\\Python38\\lib\\site-packages\\urllib3\\connectionpool.py\u001b[0m in \u001b[0;36m_make_request\u001b[1;34m(self, conn, method, url, timeout, chunked, **httplib_request_kw)\u001b[0m\n\u001b[0;32m    380\u001b[0m         \u001b[1;31m# Trigger any extra validation we need to do.\u001b[0m\u001b[1;33m\u001b[0m\u001b[1;33m\u001b[0m\u001b[1;33m\u001b[0m\u001b[0m\n\u001b[0;32m    381\u001b[0m         \u001b[1;32mtry\u001b[0m\u001b[1;33m:\u001b[0m\u001b[1;33m\u001b[0m\u001b[1;33m\u001b[0m\u001b[0m\n\u001b[1;32m--> 382\u001b[1;33m             \u001b[0mself\u001b[0m\u001b[1;33m.\u001b[0m\u001b[0m_validate_conn\u001b[0m\u001b[1;33m(\u001b[0m\u001b[0mconn\u001b[0m\u001b[1;33m)\u001b[0m\u001b[1;33m\u001b[0m\u001b[1;33m\u001b[0m\u001b[0m\n\u001b[0m\u001b[0;32m    383\u001b[0m         \u001b[1;32mexcept\u001b[0m \u001b[1;33m(\u001b[0m\u001b[0mSocketTimeout\u001b[0m\u001b[1;33m,\u001b[0m \u001b[0mBaseSSLError\u001b[0m\u001b[1;33m)\u001b[0m \u001b[1;32mas\u001b[0m \u001b[0me\u001b[0m\u001b[1;33m:\u001b[0m\u001b[1;33m\u001b[0m\u001b[1;33m\u001b[0m\u001b[0m\n\u001b[0;32m    384\u001b[0m             \u001b[1;31m# Py2 raises this as a BaseSSLError, Py3 raises it as socket timeout.\u001b[0m\u001b[1;33m\u001b[0m\u001b[1;33m\u001b[0m\u001b[1;33m\u001b[0m\u001b[0m\n",
      "\u001b[1;32m~\\AppData\\Local\\Programs\\Python\\Python38\\lib\\site-packages\\urllib3\\connectionpool.py\u001b[0m in \u001b[0;36m_validate_conn\u001b[1;34m(self, conn)\u001b[0m\n\u001b[0;32m   1008\u001b[0m         \u001b[1;31m# Force connect early to allow us to validate the connection.\u001b[0m\u001b[1;33m\u001b[0m\u001b[1;33m\u001b[0m\u001b[1;33m\u001b[0m\u001b[0m\n\u001b[0;32m   1009\u001b[0m         \u001b[1;32mif\u001b[0m \u001b[1;32mnot\u001b[0m \u001b[0mgetattr\u001b[0m\u001b[1;33m(\u001b[0m\u001b[0mconn\u001b[0m\u001b[1;33m,\u001b[0m \u001b[1;34m\"sock\"\u001b[0m\u001b[1;33m,\u001b[0m \u001b[1;32mNone\u001b[0m\u001b[1;33m)\u001b[0m\u001b[1;33m:\u001b[0m  \u001b[1;31m# AppEngine might not have  `.sock`\u001b[0m\u001b[1;33m\u001b[0m\u001b[1;33m\u001b[0m\u001b[0m\n\u001b[1;32m-> 1010\u001b[1;33m             \u001b[0mconn\u001b[0m\u001b[1;33m.\u001b[0m\u001b[0mconnect\u001b[0m\u001b[1;33m(\u001b[0m\u001b[1;33m)\u001b[0m\u001b[1;33m\u001b[0m\u001b[1;33m\u001b[0m\u001b[0m\n\u001b[0m\u001b[0;32m   1011\u001b[0m \u001b[1;33m\u001b[0m\u001b[0m\n\u001b[0;32m   1012\u001b[0m         \u001b[1;32mif\u001b[0m \u001b[1;32mnot\u001b[0m \u001b[0mconn\u001b[0m\u001b[1;33m.\u001b[0m\u001b[0mis_verified\u001b[0m\u001b[1;33m:\u001b[0m\u001b[1;33m\u001b[0m\u001b[1;33m\u001b[0m\u001b[0m\n",
      "\u001b[1;32m~\\AppData\\Local\\Programs\\Python\\Python38\\lib\\site-packages\\urllib3\\connection.py\u001b[0m in \u001b[0;36mconnect\u001b[1;34m(self)\u001b[0m\n\u001b[0;32m    351\u001b[0m     \u001b[1;32mdef\u001b[0m \u001b[0mconnect\u001b[0m\u001b[1;33m(\u001b[0m\u001b[0mself\u001b[0m\u001b[1;33m)\u001b[0m\u001b[1;33m:\u001b[0m\u001b[1;33m\u001b[0m\u001b[1;33m\u001b[0m\u001b[0m\n\u001b[0;32m    352\u001b[0m         \u001b[1;31m# Add certificate verification\u001b[0m\u001b[1;33m\u001b[0m\u001b[1;33m\u001b[0m\u001b[1;33m\u001b[0m\u001b[0m\n\u001b[1;32m--> 353\u001b[1;33m         \u001b[0mconn\u001b[0m \u001b[1;33m=\u001b[0m \u001b[0mself\u001b[0m\u001b[1;33m.\u001b[0m\u001b[0m_new_conn\u001b[0m\u001b[1;33m(\u001b[0m\u001b[1;33m)\u001b[0m\u001b[1;33m\u001b[0m\u001b[1;33m\u001b[0m\u001b[0m\n\u001b[0m\u001b[0;32m    354\u001b[0m         \u001b[0mhostname\u001b[0m \u001b[1;33m=\u001b[0m \u001b[0mself\u001b[0m\u001b[1;33m.\u001b[0m\u001b[0mhost\u001b[0m\u001b[1;33m\u001b[0m\u001b[1;33m\u001b[0m\u001b[0m\n\u001b[0;32m    355\u001b[0m         \u001b[0mtls_in_tls\u001b[0m \u001b[1;33m=\u001b[0m \u001b[1;32mFalse\u001b[0m\u001b[1;33m\u001b[0m\u001b[1;33m\u001b[0m\u001b[0m\n",
      "\u001b[1;32m~\\AppData\\Local\\Programs\\Python\\Python38\\lib\\site-packages\\urllib3\\connection.py\u001b[0m in \u001b[0;36m_new_conn\u001b[1;34m(self)\u001b[0m\n\u001b[0;32m    167\u001b[0m \u001b[1;33m\u001b[0m\u001b[0m\n\u001b[0;32m    168\u001b[0m         \u001b[1;32mtry\u001b[0m\u001b[1;33m:\u001b[0m\u001b[1;33m\u001b[0m\u001b[1;33m\u001b[0m\u001b[0m\n\u001b[1;32m--> 169\u001b[1;33m             conn = connection.create_connection(\n\u001b[0m\u001b[0;32m    170\u001b[0m                 \u001b[1;33m(\u001b[0m\u001b[0mself\u001b[0m\u001b[1;33m.\u001b[0m\u001b[0m_dns_host\u001b[0m\u001b[1;33m,\u001b[0m \u001b[0mself\u001b[0m\u001b[1;33m.\u001b[0m\u001b[0mport\u001b[0m\u001b[1;33m)\u001b[0m\u001b[1;33m,\u001b[0m \u001b[0mself\u001b[0m\u001b[1;33m.\u001b[0m\u001b[0mtimeout\u001b[0m\u001b[1;33m,\u001b[0m \u001b[1;33m**\u001b[0m\u001b[0mextra_kw\u001b[0m\u001b[1;33m\u001b[0m\u001b[1;33m\u001b[0m\u001b[0m\n\u001b[0;32m    171\u001b[0m             )\n",
      "\u001b[1;32m~\\AppData\\Local\\Programs\\Python\\Python38\\lib\\site-packages\\urllib3\\util\\connection.py\u001b[0m in \u001b[0;36mcreate_connection\u001b[1;34m(address, timeout, source_address, socket_options)\u001b[0m\n\u001b[0;32m     84\u001b[0m             \u001b[1;32mif\u001b[0m \u001b[0msource_address\u001b[0m\u001b[1;33m:\u001b[0m\u001b[1;33m\u001b[0m\u001b[1;33m\u001b[0m\u001b[0m\n\u001b[0;32m     85\u001b[0m                 \u001b[0msock\u001b[0m\u001b[1;33m.\u001b[0m\u001b[0mbind\u001b[0m\u001b[1;33m(\u001b[0m\u001b[0msource_address\u001b[0m\u001b[1;33m)\u001b[0m\u001b[1;33m\u001b[0m\u001b[1;33m\u001b[0m\u001b[0m\n\u001b[1;32m---> 86\u001b[1;33m             \u001b[0msock\u001b[0m\u001b[1;33m.\u001b[0m\u001b[0mconnect\u001b[0m\u001b[1;33m(\u001b[0m\u001b[0msa\u001b[0m\u001b[1;33m)\u001b[0m\u001b[1;33m\u001b[0m\u001b[1;33m\u001b[0m\u001b[0m\n\u001b[0m\u001b[0;32m     87\u001b[0m             \u001b[1;32mreturn\u001b[0m \u001b[0msock\u001b[0m\u001b[1;33m\u001b[0m\u001b[1;33m\u001b[0m\u001b[0m\n\u001b[0;32m     88\u001b[0m \u001b[1;33m\u001b[0m\u001b[0m\n",
      "\u001b[1;31mKeyboardInterrupt\u001b[0m: "
     ]
    }
   ],
   "source": [
    "l = Loader()\n",
    "l.download_and_display_all_images_from_folder(\"2011\", \"156\", display=False)\n",
    "\n",
    "###TRIAL TASK\n",
    "l.download_and_display_all_images_from_folder(\"2011\", \"207\", display=True)"
   ]
  },
  {
   "cell_type": "code",
   "execution_count": null,
   "metadata": {},
   "outputs": [],
   "source": [
    "###Displaying 2011_207/EW0220137668G.IMG\n",
    "###Dsiplaying 2014_215/EN1049375684M.IMG\n",
    "l.download_and_display_image(\"2011\", \"207\", \"EW0220137668G.IMG\", display=True)\n",
    "l.download_and_display_image(\"2014\", \"215\", \"EN1049375684M.IMG\", display=True)"
   ]
  },
  {
   "cell_type": "markdown",
   "metadata": {},
   "source": [
    "# Step 2 – Dataset preparation\n",
    "\n",
    "For automation of the labeling process for cosmic rays, the L.A. Cosmic algorithm, that utilises Laplacian edge detection, was used:\n",
    "\n",
    "https://lacosmic.readthedocs.io/en/latest/\n",
    "\n",
    "L.A. cosmic generates a mask that indicate where cosmic rays could be located. The cosmic ray islands are then boxed into 60x60 squares. If two boxes overlap, they are merged. To reduce bias for all cosmic rays being positioned in the center of the frame, image augmentation is used. There is a 10% probability for 10 pixels to be trimmed from each side and a 5% probability for 15 pixels to be removed.\n",
    "\n",
    "For labeling images with no cosmic rays, a day was picked out manually where images did not contain many cosmic ray and random segments of these images were cut out. The images were trimmed in the exact same way mentioned above to avoid the neural network detecting image streching traces as a feature to classify on. \n",
    "\n",
    "The contrast was tripled on all images so as to make Cosmic Rays more easily detectable."
   ]
  },
  {
   "cell_type": "code",
   "execution_count": 183,
   "metadata": {
    "scrolled": true
   },
   "outputs": [
    {
     "name": "stdout",
     "output_type": "stream",
     "text": [
      "(12843, 50, 50, 3)\n",
      "(14320, 50, 50, 3)\n"
     ]
    }
   ],
   "source": [
    "\n",
    "# l = Loader()\n",
    "# $l.convert_all_to_png(\"2014\", \"215\")\n",
    "# l.display_image(\"2011\", \"207\",\"EW0220137668G.IMG\")\n",
    "# l.display_image(\"2014\", \"215\", \"EN1049375684M.IMG\")\n",
    "#col.display_all_images_from_folder(\"2011\", \"207\")\n",
    "# try:\n",
    "# l.download_and_display_all_images_from_folder(\"2011\", \"155\")\n",
    "# except: \n",
    "#     print(\"Unexpected error:\", sys.exc_info()[0])\n",
    "#     print(\"FAIL\")\n",
    "# try:\n",
    "#     l.display_all_images_from_folder(\"2011\", \"156\")\n",
    "# except:\n",
    "#     print(\"Unexpected error:\", sys.exc_info()[0])\n",
    "#     print(\"FAIL\")\n",
    "# try:\n",
    "#     l.display_all_images_from_folder(\"2011\", \"157\")\n",
    "# except:\n",
    "#     print(\"Unexpected error:\", sys.exc_info()[0])\n",
    "#     print(\"FAIL\")\n",
    "# l.convert_all_to_png(\"2011\", \"207\")\n",
    "\n",
    "i_cosmic_ray = Image_processor(\"2011\", \"156\")\n",
    "# i_cosmic_ray.process_folder_cosmic_rays()\n",
    "cosmic_ray_data = i_cosmic_ray.load_day()\n",
    "print(cosmic_ray_data.shape)\n",
    "i_non_cosmic_ray = Image_processor(\"2011\", \"207\")\n",
    "i_non_cosmic_ray.process_folder_random_images()\n",
    "non_cosmic_ray_data = i_non_cosmic_ray.load_day()\n",
    "print(non_cosmic_ray_data.shape)"
   ]
  },
  {
   "cell_type": "code",
   "execution_count": null,
   "metadata": {},
   "outputs": [],
   "source": [
    "# print(cosmic_ray_data[25].shape)\n",
    "# Image.fromarray(cosmic_ray_data[10].astype(np.uint8)).show()\n",
    "# print(non_cosmic_ray_data[25].shape)\n",
    "# Image.fromarray(non_cosmic_ray_data[10].astype(np.uint8)).show()"
   ]
  },
  {
   "cell_type": "code",
   "execution_count": 184,
   "metadata": {},
   "outputs": [
    {
     "name": "stdout",
     "output_type": "stream",
     "text": [
      "Training data shape:  (21731, 50, 50, 3)\n",
      "Test data shape:  (5432, 50, 50, 3)\n",
      "[0. 0. 0. ... 1. 1. 0.]\n"
     ]
    }
   ],
   "source": [
    "#Prepare data for classification\n",
    "data = np.concatenate((non_cosmic_ray_data, cosmic_ray_data), axis = 0) / 255.0\n",
    "labels = np.zeros(data.shape[0])#, 2))\n",
    "labels[:non_cosmic_ray_data.shape[0]] = 0#[0, 1] \n",
    "labels[non_cosmic_ray_data.shape[0]:] = 1#[1, 0]\n",
    "indecies = np.arange(data.shape[0])\n",
    "np.random.shuffle(indecies)\n",
    "labels = labels[indecies]\n",
    "data = data[indecies]\n",
    "\n",
    "#Leave 1/5 of data for testing\n",
    "slice_index = int(labels.shape[0] / 5)\n",
    "training_data = data[slice_index:]\n",
    "training_labels = labels[slice_index:]\n",
    "test_data = data[:slice_index]\n",
    "test_labels = labels[:slice_index]\n",
    "print(\"Training data shape: \", training_data.shape)\n",
    "print(\"Test data shape: \", test_data.shape)\n",
    "print(labels)\n",
    "# Image.fromarray((training_data[25] * 255).astype(np.uint8)).show()"
   ]
  },
  {
   "cell_type": "markdown",
   "metadata": {},
   "source": [
    "# Step 3 – Machine Learning Algorithm\n",
    "\n",
    "The following CNN model is to be used for binary classification, where 1 is the label for cosmic rays and 0 is the label for non-cosmic ray images."
   ]
  },
  {
   "cell_type": "code",
   "execution_count": 194,
   "metadata": {
    "scrolled": true
   },
   "outputs": [
    {
     "name": "stdout",
     "output_type": "stream",
     "text": [
      "[[0.49496767]]\n",
      "Model: \"sequential_19\"\n",
      "_________________________________________________________________\n",
      "Layer (type)                 Output Shape              Param #   \n",
      "=================================================================\n",
      "conv2d_49 (Conv2D)           (None, 48, 48, 32)        896       \n",
      "_________________________________________________________________\n",
      "max_pooling2d_49 (MaxPooling (None, 24, 24, 32)        0         \n",
      "_________________________________________________________________\n",
      "conv2d_50 (Conv2D)           (None, 22, 22, 64)        18496     \n",
      "_________________________________________________________________\n",
      "max_pooling2d_50 (MaxPooling (None, 11, 11, 64)        0         \n",
      "_________________________________________________________________\n",
      "flatten_20 (Flatten)         (None, 7744)              0         \n",
      "_________________________________________________________________\n",
      "dense_39 (Dense)             (None, 128)               991360    \n",
      "_________________________________________________________________\n",
      "dense_40 (Dense)             (None, 1)                 129       \n",
      "=================================================================\n",
      "Total params: 1,010,881\n",
      "Trainable params: 1,010,881\n",
      "Non-trainable params: 0\n",
      "_________________________________________________________________\n",
      "None\n"
     ]
    }
   ],
   "source": [
    "def build_cnn_model():\n",
    "    cnn_model = tf.keras.Sequential([\n",
    "        tf.keras.layers.Conv2D(filters=32, kernel_size=(3,3), activation=tf.nn.relu),\n",
    "        tf.keras.layers.MaxPool2D(pool_size=(2,2)),\n",
    "        tf.keras.layers.Conv2D(filters=64, kernel_size=(3,3), activation=tf.nn.relu),\n",
    "        tf.keras.layers.MaxPool2D(pool_size=(2,2)),\n",
    "        tf.keras.layers.Flatten(),\n",
    "        tf.keras.layers.Dense(128, activation=tf.nn.relu),\n",
    "        tf.keras.layers.Dense(1, activation=tf.nn.sigmoid)\n",
    "    ])\n",
    "    return cnn_model\n",
    "    \n",
    "cnn_model = build_cnn_model()\n",
    "# print(training_data[0].shape)\n",
    "print(cnn_model.predict(training_data[[0]]))\n",
    "print(cnn_model.summary())"
   ]
  },
  {
   "cell_type": "code",
   "execution_count": 195,
   "metadata": {},
   "outputs": [
    {
     "name": "stdout",
     "output_type": "stream",
     "text": [
      "Epoch 1/7\n",
      "8/8 [==============================] - 25s 3s/step - loss: 0.6299 - accuracy: 0.5331\n",
      "Epoch 2/7\n",
      "8/8 [==============================] - 23s 3s/step - loss: 0.5263 - accuracy: 0.6686\n",
      "Epoch 3/7\n",
      "8/8 [==============================] - 24s 3s/step - loss: 0.3830 - accuracy: 0.8621\n",
      "Epoch 4/7\n",
      "8/8 [==============================] - 24s 3s/step - loss: 0.2972 - accuracy: 0.8634\n",
      "Epoch 5/7\n",
      "8/8 [==============================] - 24s 3s/step - loss: 0.2581 - accuracy: 0.8842\n",
      "Epoch 6/7\n",
      "8/8 [==============================] - 24s 3s/step - loss: 0.2267 - accuracy: 0.9154\n",
      "Epoch 7/7\n",
      "8/8 [==============================] - 24s 3s/step - loss: 0.2024 - accuracy: 0.9338\n"
     ]
    },
    {
     "data": {
      "text/plain": [
       "<tensorflow.python.keras.callbacks.History at 0x150d58db6a0>"
      ]
     },
     "execution_count": 195,
     "metadata": {},
     "output_type": "execute_result"
    }
   ],
   "source": [
    "BATCH_SIZE = 3000\n",
    "EPOCHS = 7 #Experimentation with further training to increase accuracy showed overfitting\n",
    "\n",
    "cnn_model.compile(optimizer=tf.keras.optimizers.Adam(learning_rate=0.0005),\n",
    "              loss='binary_crossentropy',\n",
    "              metrics=['accuracy'])\n",
    "cnn_model.fit(x=training_data, y=training_labels, batch_size = BATCH_SIZE, epochs=EPOCHS)"
   ]
  },
  {
   "cell_type": "code",
   "execution_count": 196,
   "metadata": {},
   "outputs": [
    {
     "name": "stdout",
     "output_type": "stream",
     "text": [
      "170/170 [==============================] - 2s 9ms/step - loss: 0.1812 - accuracy: 0.9411\n",
      "Test accuracy 0.9410898089408875\n",
      "Test loss 0.18118973076343536\n"
     ]
    }
   ],
   "source": [
    "test_loss, test_acc = cnn_model.evaluate(test_data, test_labels)\n",
    "\n",
    "print(\"Test accuracy\", test_acc)\n",
    "print(\"Test loss\", test_loss)"
   ]
  },
  {
   "cell_type": "markdown",
   "metadata": {},
   "source": [
    "# Pipeline for ingesting a single image\n",
    "\n",
    "The current network can be used to identify tiles that potentially contain cosmic rays."
   ]
  },
  {
   "cell_type": "code",
   "execution_count": 197,
   "metadata": {},
   "outputs": [
    {
     "name": "stdout",
     "output_type": "stream",
     "text": [
      "Original image:\n"
     ]
    },
    {
     "data": {
      "image/png": "[encoded data removed]",
      "text/plain": [
       "<Figure size 432x288 with 1 Axes>"
      ]
     },
     "metadata": {
      "needs_background": "light"
     },
     "output_type": "display_data"
    },
    {
     "data": {
      "image/png": "[encoded data removed]",
      "text/plain": [
       "<Figure size 432x288 with 1 Axes>"
      ]
     },
     "metadata": {
      "needs_background": "light"
     },
     "output_type": "display_data"
    },
    {
     "data": {
      "image/png": "[encoded data removed]",
      "text/plain": [
       "<Figure size 432x288 with 1 Axes>"
      ]
     },
     "metadata": {
      "needs_background": "light"
     },
     "output_type": "display_data"
    },
    {
     "data": {
      "image/png": "[encoded data removed]",
      "text/plain": [
       "<Figure size 432x288 with 1 Axes>"
      ]
     },
     "metadata": {
      "needs_background": "light"
     },
     "output_type": "display_data"
    }
   ],
   "source": [
    "def ingest_image(image_png_path):\n",
    "    image = Image.open(image_png_path)\n",
    "    print(\"Original image:\")\n",
    "    plt.figure()\n",
    "    plt.axis('off')\n",
    "    plt.imshow(np.asarray(image), cmap=\"gray\", vmin=0, vmax=255)\n",
    "    width, height = image.size\n",
    "    length = 50\n",
    "    window = 50\n",
    "    r = 0\n",
    "    c = 0\n",
    "    while r < height:\n",
    "        c = 0\n",
    "        while c < width:\n",
    "            im = image.crop((c, r, min(c + length, width), min(r + length, height))).resize((length, length)).convert(\"RGB\")\n",
    "            im = ImageEnhance.Contrast(im).enhance(4)\n",
    "            arr = np.array(im) / 255.0\n",
    "            ar = np.expand_dims(arr, axis=0)\n",
    "            prediction = cnn_model.predict(ar)\n",
    "            if (prediction[0] > 0.50):\n",
    "#                 print(\"Prediction value: \",prediction[0])\n",
    "                plt.figure()\n",
    "                plt.axis('off')\n",
    "                plt.imshow(np.asarray(im), cmap=\"gray\", vmin=0, vmax=255)\n",
    "            c += window\n",
    "        r += window\n",
    "\n",
    "ingest_image(\"/\".join([\"Images\", \"2014_215\", \"png\", \"EN1049375684M.IMG.png\"]))"
   ]
  },
  {
   "cell_type": "code",
   "execution_count": null,
   "metadata": {},
   "outputs": [],
   "source": []
  }
 ],
 "metadata": {
  "kernelspec": {
   "display_name": "Python 3",
   "language": "python",
   "name": "python3"
  },
  "language_info": {
   "codemirror_mode": {
    "name": "ipython",
    "version": 3
   },
   "file_extension": ".py",
   "mimetype": "text/x-python",
   "name": "python",
   "nbconvert_exporter": "python",
   "pygments_lexer": "ipython3",
   "version": "3.8.2"
  }
 },
 "nbformat": 4,
 "nbformat_minor": 2
}
