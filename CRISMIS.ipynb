{
 "cells": [
  {
   "cell_type": "code",
   "execution_count": 1,
   "metadata": {},
   "outputs": [
    {
     "name": "stdout",
     "output_type": "stream",
     "text": [
      "Requirement already satisfied: lacosmic in c:\\users\\boyko\\appdata\\local\\programs\\python\\python38\\lib\\site-packages (0.1.1)\n",
      "Requirement already satisfied: astropy in c:\\users\\boyko\\appdata\\local\\programs\\python\\python38\\lib\\site-packages (from lacosmic) (4.2)\n",
      "Requirement already satisfied: numpy>=1.17 in c:\\users\\boyko\\appdata\\local\\programs\\python\\python38\\lib\\site-packages (from astropy->lacosmic) (1.19.5)\n",
      "Requirement already satisfied: pyerfa in c:\\users\\boyko\\appdata\\local\\programs\\python\\python38\\lib\\site-packages (from astropy->lacosmic) (1.7.2)\n",
      "Note: you may need to restart the kernel to use updated packages.\n"
     ]
    }
   ],
   "source": [
    "pip install lacosmic"
   ]
  },
  {
   "cell_type": "code",
   "execution_count": 2,
   "metadata": {},
   "outputs": [
    {
     "name": "stdout",
     "output_type": "stream",
     "text": [
      "Collecting tensorflow-gpu\n",
      "  Using cached tensorflow_gpu-2.4.1-cp38-cp38-win_amd64.whl (370.7 MB)\n",
      "Requirement already satisfied: tensorflow-estimator<2.5.0,>=2.4.0 in c:\\users\\boyko\\appdata\\local\\programs\\python\\python38\\lib\\site-packages (from tensorflow-gpu) (2.4.0)\n",
      "Requirement already satisfied: six~=1.15.0 in c:\\users\\boyko\\appdata\\local\\programs\\python\\python38\\lib\\site-packages (from tensorflow-gpu) (1.15.0)Note: you may need to restart the kernel to use updated packages.\n"
     ]
    },
    {
     "name": "stderr",
     "output_type": "stream",
     "text": [
      "ERROR: Could not install packages due to an OSError: [WinError 5] Access is denied: 'C:\\\\Users\\\\Boyko\\\\AppData\\\\Local\\\\Programs\\\\Python\\\\Python38\\\\Lib\\\\site-packages\\\\tensorflow\\\\lite\\\\experimental\\\\microfrontend\\\\python\\\\ops\\\\_audio_microfrontend_op.so'\n",
      "Consider using the `--user` option or check the permissions.\n",
      "\n"
     ]
    },
    {
     "name": "stdout",
     "output_type": "stream",
     "text": [
      "\n",
      "Requirement already satisfied: termcolor~=1.1.0 in c:\\users\\boyko\\appdata\\local\\programs\\python\\python38\\lib\\site-packages (from tensorflow-gpu) (1.1.0)\n",
      "Requirement already satisfied: grpcio~=1.32.0 in c:\\users\\boyko\\appdata\\local\\programs\\python\\python38\\lib\\site-packages (from tensorflow-gpu) (1.32.0)\n",
      "Requirement already satisfied: wrapt~=1.12.1 in c:\\users\\boyko\\appdata\\local\\programs\\python\\python38\\lib\\site-packages (from tensorflow-gpu) (1.12.1)\n",
      "Requirement already satisfied: google-pasta~=0.2 in c:\\users\\boyko\\appdata\\local\\programs\\python\\python38\\lib\\site-packages (from tensorflow-gpu) (0.2.0)\n",
      "Requirement already satisfied: wheel~=0.35 in c:\\users\\boyko\\appdata\\local\\programs\\python\\python38\\lib\\site-packages (from tensorflow-gpu) (0.36.2)\n",
      "Requirement already satisfied: opt-einsum~=3.3.0 in c:\\users\\boyko\\appdata\\local\\programs\\python\\python38\\lib\\site-packages (from tensorflow-gpu) (3.3.0)\n",
      "Requirement already satisfied: h5py~=2.10.0 in c:\\users\\boyko\\appdata\\local\\programs\\python\\python38\\lib\\site-packages (from tensorflow-gpu) (2.10.0)\n",
      "Requirement already satisfied: gast==0.3.3 in c:\\users\\boyko\\appdata\\local\\programs\\python\\python38\\lib\\site-packages (from tensorflow-gpu) (0.3.3)\n",
      "Requirement already satisfied: absl-py~=0.10 in c:\\users\\boyko\\appdata\\local\\programs\\python\\python38\\lib\\site-packages (from tensorflow-gpu) (0.12.0)\n",
      "Requirement already satisfied: flatbuffers~=1.12.0 in c:\\users\\boyko\\appdata\\local\\programs\\python\\python38\\lib\\site-packages (from tensorflow-gpu) (1.12)\n",
      "Requirement already satisfied: numpy~=1.19.2 in c:\\users\\boyko\\appdata\\local\\programs\\python\\python38\\lib\\site-packages (from tensorflow-gpu) (1.19.5)\n",
      "Requirement already satisfied: protobuf>=3.9.2 in c:\\users\\boyko\\appdata\\local\\programs\\python\\python38\\lib\\site-packages (from tensorflow-gpu) (3.15.6)\n",
      "Requirement already satisfied: keras-preprocessing~=1.1.2 in c:\\users\\boyko\\appdata\\local\\programs\\python\\python38\\lib\\site-packages (from tensorflow-gpu) (1.1.2)\n",
      "Requirement already satisfied: astunparse~=1.6.3 in c:\\users\\boyko\\appdata\\local\\programs\\python\\python38\\lib\\site-packages (from tensorflow-gpu) (1.6.3)\n",
      "Requirement already satisfied: typing-extensions~=3.7.4 in c:\\users\\boyko\\appdata\\local\\programs\\python\\python38\\lib\\site-packages (from tensorflow-gpu) (3.7.4.3)\n",
      "Requirement already satisfied: tensorboard~=2.4 in c:\\users\\boyko\\appdata\\local\\programs\\python\\python38\\lib\\site-packages (from tensorflow-gpu) (2.4.1)\n",
      "Requirement already satisfied: tensorboard-plugin-wit>=1.6.0 in c:\\users\\boyko\\appdata\\local\\programs\\python\\python38\\lib\\site-packages (from tensorboard~=2.4->tensorflow-gpu) (1.8.0)\n",
      "Requirement already satisfied: requests<3,>=2.21.0 in c:\\users\\boyko\\appdata\\local\\programs\\python\\python38\\lib\\site-packages (from tensorboard~=2.4->tensorflow-gpu) (2.25.1)\n",
      "Requirement already satisfied: setuptools>=41.0.0 in c:\\users\\boyko\\appdata\\local\\programs\\python\\python38\\lib\\site-packages (from tensorboard~=2.4->tensorflow-gpu) (41.2.0)\n",
      "Requirement already satisfied: google-auth<2,>=1.6.3 in c:\\users\\boyko\\appdata\\local\\programs\\python\\python38\\lib\\site-packages (from tensorboard~=2.4->tensorflow-gpu) (1.28.0)\n",
      "Requirement already satisfied: werkzeug>=0.11.15 in c:\\users\\boyko\\appdata\\local\\programs\\python\\python38\\lib\\site-packages (from tensorboard~=2.4->tensorflow-gpu) (1.0.1)\n",
      "Requirement already satisfied: markdown>=2.6.8 in c:\\users\\boyko\\appdata\\local\\programs\\python\\python38\\lib\\site-packages (from tensorboard~=2.4->tensorflow-gpu) (3.3.4)\n",
      "Requirement already satisfied: google-auth-oauthlib<0.5,>=0.4.1 in c:\\users\\boyko\\appdata\\local\\programs\\python\\python38\\lib\\site-packages (from tensorboard~=2.4->tensorflow-gpu) (0.4.3)\n",
      "Requirement already satisfied: cachetools<5.0,>=2.0.0 in c:\\users\\boyko\\appdata\\local\\programs\\python\\python38\\lib\\site-packages (from google-auth<2,>=1.6.3->tensorboard~=2.4->tensorflow-gpu) (4.2.1)\n",
      "Requirement already satisfied: pyasn1-modules>=0.2.1 in c:\\users\\boyko\\appdata\\local\\programs\\python\\python38\\lib\\site-packages (from google-auth<2,>=1.6.3->tensorboard~=2.4->tensorflow-gpu) (0.2.8)\n",
      "Requirement already satisfied: rsa<5,>=3.1.4 in c:\\users\\boyko\\appdata\\local\\programs\\python\\python38\\lib\\site-packages (from google-auth<2,>=1.6.3->tensorboard~=2.4->tensorflow-gpu) (4.7.2)\n",
      "Requirement already satisfied: requests-oauthlib>=0.7.0 in c:\\users\\boyko\\appdata\\local\\programs\\python\\python38\\lib\\site-packages (from google-auth-oauthlib<0.5,>=0.4.1->tensorboard~=2.4->tensorflow-gpu) (1.3.0)\n",
      "Requirement already satisfied: pyasn1<0.5.0,>=0.4.6 in c:\\users\\boyko\\appdata\\local\\programs\\python\\python38\\lib\\site-packages (from pyasn1-modules>=0.2.1->google-auth<2,>=1.6.3->tensorboard~=2.4->tensorflow-gpu) (0.4.8)\n",
      "Requirement already satisfied: chardet<5,>=3.0.2 in c:\\users\\boyko\\appdata\\local\\programs\\python\\python38\\lib\\site-packages (from requests<3,>=2.21.0->tensorboard~=2.4->tensorflow-gpu) (4.0.0)\n",
      "Requirement already satisfied: urllib3<1.27,>=1.21.1 in c:\\users\\boyko\\appdata\\local\\programs\\python\\python38\\lib\\site-packages (from requests<3,>=2.21.0->tensorboard~=2.4->tensorflow-gpu) (1.26.4)\n",
      "Requirement already satisfied: idna<3,>=2.5 in c:\\users\\boyko\\appdata\\local\\programs\\python\\python38\\lib\\site-packages (from requests<3,>=2.21.0->tensorboard~=2.4->tensorflow-gpu) (2.10)\n",
      "Requirement already satisfied: certifi>=2017.4.17 in c:\\users\\boyko\\appdata\\local\\programs\\python\\python38\\lib\\site-packages (from requests<3,>=2.21.0->tensorboard~=2.4->tensorflow-gpu) (2020.12.5)\n",
      "Requirement already satisfied: oauthlib>=3.0.0 in c:\\users\\boyko\\appdata\\local\\programs\\python\\python38\\lib\\site-packages (from requests-oauthlib>=0.7.0->google-auth-oauthlib<0.5,>=0.4.1->tensorboard~=2.4->tensorflow-gpu) (3.1.0)\n",
      "Installing collected packages: tensorflow-gpu\n"
     ]
    }
   ],
   "source": [
    "pip install tensorflow-gpu"
   ]
  },
  {
   "cell_type": "code",
   "execution_count": 3,
   "metadata": {},
   "outputs": [
    {
     "name": "stdout",
     "output_type": "stream",
     "text": [
      "Requirement already satisfied: Pillow in c:\\users\\boyko\\appdata\\local\\programs\\python\\python38\\lib\\site-packages (8.1.2)\n",
      "Note: you may need to restart the kernel to use updated packages.\n"
     ]
    }
   ],
   "source": [
    "pip install Pillow"
   ]
  },
  {
   "cell_type": "code",
   "execution_count": 4,
   "metadata": {},
   "outputs": [
    {
     "name": "stdout",
     "output_type": "stream",
     "text": [
      "Requirement already satisfied: matplotlib in c:\\users\\boyko\\appdata\\local\\programs\\python\\python38\\lib\\site-packages (3.4.0)\n",
      "Requirement already satisfied: pyparsing>=2.2.1 in c:\\users\\boyko\\appdata\\local\\programs\\python\\python38\\lib\\site-packages (from matplotlib) (2.4.7)\n",
      "Requirement already satisfied: kiwisolver>=1.0.1 in c:\\users\\boyko\\appdata\\local\\programs\\python\\python38\\lib\\site-packages (from matplotlib) (1.3.1)\n",
      "Requirement already satisfied: pillow>=6.2.0 in c:\\users\\boyko\\appdata\\local\\programs\\python\\python38\\lib\\site-packages (from matplotlib) (8.1.2)\n",
      "Requirement already satisfied: cycler>=0.10 in c:\\users\\boyko\\appdata\\local\\programs\\python\\python38\\lib\\site-packages (from matplotlib) (0.10.0)Note: you may need to restart the kernel to use updated packages.\n",
      "\n",
      "Requirement already satisfied: python-dateutil>=2.7 in c:\\users\\boyko\\appdata\\local\\programs\\python\\python38\\lib\\site-packages (from matplotlib) (2.8.1)\n",
      "Requirement already satisfied: numpy>=1.16 in c:\\users\\boyko\\appdata\\local\\programs\\python\\python38\\lib\\site-packages (from matplotlib) (1.19.5)\n",
      "Requirement already satisfied: six in c:\\users\\boyko\\appdata\\local\\programs\\python\\python38\\lib\\site-packages (from cycler>=0.10->matplotlib) (1.15.0)\n"
     ]
    }
   ],
   "source": [
    "pip install matplotlib"
   ]
  },
  {
   "cell_type": "code",
   "execution_count": 5,
   "metadata": {},
   "outputs": [
    {
     "name": "stdout",
     "output_type": "stream",
     "text": [
      "Requirement already satisfied: bs4 in c:\\users\\boyko\\appdata\\local\\programs\\python\\python38\\lib\\site-packages (0.0.1)\n",
      "Requirement already satisfied: beautifulsoup4 in c:\\users\\boyko\\appdata\\local\\programs\\python\\python38\\lib\\site-packages (from bs4) (4.9.3)\n",
      "Requirement already satisfied: soupsieve>1.2 in c:\\users\\boyko\\appdata\\local\\programs\\python\\python38\\lib\\site-packages (from beautifulsoup4->bs4) (2.2.1)\n",
      "Note: you may need to restart the kernel to use updated packages.\n"
     ]
    }
   ],
   "source": [
    "pip install bs4"
   ]
  },
  {
   "cell_type": "code",
   "execution_count": 6,
   "metadata": {},
   "outputs": [
    {
     "name": "stdout",
     "output_type": "stream",
     "text": [
      "Requirement already satisfied: scipy in c:\\users\\boyko\\appdata\\local\\programs\\python\\python38\\lib\\site-packages (1.6.2)\n",
      "Requirement already satisfied: numpy<1.23.0,>=1.16.5 in c:\\users\\boyko\\appdata\\local\\programs\\python\\python38\\lib\\site-packages (from scipy) (1.19.5)\n",
      "Note: you may need to restart the kernel to use updated packages.\n"
     ]
    }
   ],
   "source": [
    "pip install scipy"
   ]
  },
  {
   "cell_type": "code",
   "execution_count": 7,
   "metadata": {},
   "outputs": [
    {
     "name": "stderr",
     "output_type": "stream",
     "text": [
      "WARNING: AstropyDeprecationWarning: block_reduce was moved to the astropy.nddata.blocks module.  Please update your import statement. [astropy.nddata.utils]\n",
      "WARNING: AstropyDeprecationWarning: block_replicate was moved to the astropy.nddata.blocks module.  Please update your import statement. [astropy.nddata.utils]\n"
     ]
    }
   ],
   "source": [
    "from PIL import Image, ImageEnhance\n",
    "import matplotlib.pyplot as plt\n",
    "from io import BytesIO\n",
    "import re\n",
    "import os\n",
    "import requests\n",
    "import numpy as np\n",
    "from bs4 import BeautifulSoup\n",
    "import lacosmic\n",
    "import random\n",
    "import tensorflow as tf"
   ]
  },
  {
   "cell_type": "code",
   "execution_count": 8,
   "metadata": {},
   "outputs": [],
   "source": [
    "BASE_URL = \"https://pdsimage2.wr.usgs.gov/archive/mess-e_v_h-mdis-2-edr-rawdata-v1.0/MSGRMDS_1001/DATA/\""
   ]
  },
  {
   "cell_type": "markdown",
   "metadata": {},
   "source": [
    "# Step 1 – Retrieving and Plotting Image Files\n",
    "### The utility Loader defined above class was developed for this task, which facilitates downloading and storing images in the file structure assumed by the tools for the other tasks"
   ]
  },
  {
   "cell_type": "code",
   "execution_count": 9,
   "metadata": {},
   "outputs": [],
   "source": [
    "class Loader:\n",
    "    def __init__(self, base_url = BASE_URL):\n",
    "        self.base_url = base_url\n",
    "        if not os.path.exists(\"Images\"):\n",
    "            os.mkdir(\"Images\")\n",
    "    \n",
    "    def get_time(self, year, day):\n",
    "        return \"_\".join([year, day])\n",
    "    \n",
    "    def get_folder_path(self, year, day):\n",
    "        return \"/\".join([\"Images\", self.get_time(year, day), \"img\"])\n",
    "    \n",
    "    def get_file_path(self, year, day, image):\n",
    "        return \"/\".join([self.get_folder_path(year, day), image])\n",
    "    \n",
    "    def image_exists(self, year, day, image): \n",
    "        folder_path = \"/\".join([\"Images\", self.get_time(year, day), \"img\"])\n",
    "        filepath = self.get_folder_path(year, day)\n",
    "        if not os.path.exists(filepath):\n",
    "            return False\n",
    "        return os.path.exists(filepath + \"/\" + image)\n",
    "    \n",
    "    def download_image(self, year, day, image):\n",
    "        if self.image_exists(year, day, image):\n",
    "#             print(\"Image already exists\")\n",
    "            return None\n",
    "         \n",
    "        path = \"_\".join([year, day])\n",
    "        \n",
    "        if not os.path.exists(\"/\".join([\"Images\", path])):\n",
    "            os.mkdir(\"/\".join([\"Images\", path]))\n",
    "            \n",
    "        filepath = \"/\".join([\"Images\", path, \"img\"])\n",
    "        if not os.path.exists(filepath):\n",
    "            os.mkdir(filepath)\n",
    "            \n",
    "        url = \"/\".join([self.base_url, path, image])\n",
    "        r = requests.get(url)\n",
    "        open(\"/\".join([filepath, image]), 'wb').write(r.content)\n",
    "    \n",
    "    def process_img(self, year, day, image):\n",
    "        img_file = open(self.get_file_path(year, day, image), \"rb\")\n",
    "        img_bytes = bytearray()\n",
    "        reading_header = True\n",
    "        rows = None\n",
    "        cols = None\n",
    "        sample_bits = None\n",
    "        for line in img_file.readlines():\n",
    "            if not reading_header:\n",
    "                img_bytes.extend(line)\n",
    "            else:\n",
    "                header_line = line.strip().decode(\"utf-8\")\n",
    "                if \"END\" == header_line:\n",
    "                    reading_header = False\n",
    "                elif \"LINES\" in header_line:\n",
    "                    rows = int(header_line.split(\"=\")[1])\n",
    "                elif \"LINE_SAMPLES\" in header_line:\n",
    "                    cols = int(header_line.split(\"=\")[1])\n",
    "                elif \"SAMPLE_BITS\" in header_line:\n",
    "                    sample_bits = header_line.split(\"=\")[1].strip()\n",
    "        try:\n",
    "            img_sample_bits = np.frombuffer(\n",
    "                img_bytes,\n",
    "                dtype=\"uint\" + sample_bits\n",
    "            )\n",
    "\n",
    "            extra_byte_count = img_sample_bits.size - rows * cols\n",
    "            img_sample_bits = img_sample_bits[extra_byte_count:]\n",
    "            img_resized = np.resize(img_sample_bits, (rows,cols))\n",
    "            return Image.fromarray(img_resized)\n",
    "        except:\n",
    "            print(\"FAILED READING IMG: \", image)\n",
    "    \n",
    "    def convert_all_to_png(self, year, day):\n",
    "        png_dir = \"/\".join([\"Images\", self.get_time(year, day), \"png\"])\n",
    "        if not os.path.exists(png_dir):\n",
    "            os.mkdir(png_dir)\n",
    "        pngs = set(os.listdir(png_dir))\n",
    "        imgs = os.listdir(\"/\".join([\"Images\", self.get_time(year, day), \"img\"]))\n",
    "        for img in imgs:\n",
    "            #print(img)\n",
    "            if not img + \".png\" in pngs:\n",
    "                try:\n",
    "                    im = self.process_img(year, day, img)\n",
    "                    im.save(\"/\".join([png_dir, img]) + \".png\",format=\"png\")\n",
    "                except:\n",
    "                    print(\"FAILED PNG CONVERSION:\", img)\n",
    "                    \n",
    "    def download_and_display_image(self, year, day, image, display=False):\n",
    "        self.download_image(year, day, image)\n",
    "        im = self.process_img(year, day, image)\n",
    "        if display:\n",
    "            plt.figure()\n",
    "            plt.imshow(np.asarray(im), cmap=\"gray\", vmin=0, vmax=255)\n",
    "#            im = Image.open(\"\")\n",
    "#            im.show()\n",
    "        \n",
    "    def download_and_display_all_images_from_folder(self, year, day, display=False):\n",
    "        time = self.get_time(year, day)\n",
    "        url = \"/\".join([self.base_url, time])\n",
    "        request = requests.get(url)\n",
    "        soup = BeautifulSoup(request.content, \"html.parser\")\n",
    "        print(\"Retrieving folder content\")\n",
    "        images = soup.find_all(\"a\", text=re.compile(\".IMG\"))\n",
    "        x = 0\n",
    "        j = len(images)\n",
    "        for image in images:\n",
    "            self.download_and_display_image(year, day, image.get_text(), display)\n",
    "            x += 1\n",
    "            print (str(x) + \"/\" + str(j), end=\"\\r\", flush=True)\n"
   ]
  },
  {
   "cell_type": "code",
   "execution_count": 10,
   "metadata": {},
   "outputs": [
    {
     "name": "stdout",
     "output_type": "stream",
     "text": [
      "Retrieving folder content\n",
      "Retrieving folder content\n",
      "FAILED READING IMG:  EW0220137532B.IMG\n",
      "FAILED READING IMG:  EW0220137532B.IMG\n",
      "FAILED PNG CONVERSION: EW0220137532B.IMG\n"
     ]
    },
    {
     "data": {
      "image/png": "[encoded data removed]",
      "text/plain": [
       "<Figure size 432x288 with 1 Axes>"
      ]
     },
     "metadata": {
      "needs_background": "light"
     },
     "output_type": "display_data"
    }
   ],
   "source": [
    "l = Loader()\n",
    "\n",
    "l.download_and_display_image(\"2014\", \"215\", \"EN1049375684M.IMG\", display=True)\n",
    "\n",
    "l.download_and_display_all_images_from_folder(\"2011\", \"156\", display=False)\n",
    "\n",
    "l.download_and_display_all_images_from_folder(\"2011\", \"207\", display=False)\n",
    "\n",
    "###For next steps\n",
    "l.convert_all_to_png(\"2011\", \"207\")\n",
    "l.convert_all_to_png(\"2011\", \"156\")\n",
    "l.convert_all_to_png(\"2014\", \"215\")"
   ]
  },
  {
   "cell_type": "markdown",
   "metadata": {},
   "source": [
    "# Step 2 – Dataset preparation\n",
    "\n",
    "For the Dataset preperation a utility loader class was built.\n",
    "\n",
    "For automation of the labeling process for cosmic rays, the L.A. Cosmic algorithm, that utilises Laplacian edge detection, was used:\n",
    "\n",
    "https://lacosmic.readthedocs.io/en/latest/\n",
    "\n",
    "L.A. cosmic generates a mask that indicate where cosmic rays could be located. The cosmic ray islands are then boxed into 60x60 squares. If two boxes overlap, they are merged. To reduce bias from all cosmic rays being positioned in the center of the frame, image augmentation is used. There is a 15% probability for 10 pixels to be trimmed from each side and a 5% probability for 15 pixels to be removed.\n",
    "\n",
    "For labeling images with no cosmic rays, a day was picked out manually, where images did not contain many cosmic rays, and random segments of these images were cut out. The images were trimmed in the same way mentioned above to avoid the neural network falsely detecting image streching traces as a feature to classify on. \n",
    "\n",
    "The contrast was tripled on all images so as to make Cosmic Rays more easily detectable."
   ]
  },
  {
   "cell_type": "code",
   "execution_count": 11,
   "metadata": {},
   "outputs": [],
   "source": [
    "def get_bounding_box(r, c, mask):\n",
    "    padding = 30\n",
    "    dirs =  []\n",
    "    for p in range(1, padding):\n",
    "        dirs.append([0, p])\n",
    "        dirs.append([p, 0])\n",
    "        dirs.append([0, -p])\n",
    "        dirs.append([-p, 0])\n",
    "        dirs.append([p, p])\n",
    "        dirs.append([p, -p])\n",
    "        dirs.append([-p, p])\n",
    "        dirs.append([-p, -p])\n",
    "    max_r = r\n",
    "    min_r = r\n",
    "    max_c = c\n",
    "    min_c = c\n",
    "    q = []\n",
    "    q.append([r, c])\n",
    "    while (len(q) > 0):\n",
    "        [cr, cc] = q.pop(0)\n",
    "        mask[cr, cc] = False\n",
    "        for d in dirs:\n",
    "            nr = cr + d[0]\n",
    "            nc = cc + d[1]\n",
    "            if nr > 0 and nr < len(mask) and nc > 0 and nc < len(mask[0]):\n",
    "                max_r = max(nr, max_r)\n",
    "                min_r = min(nr, min_r)\n",
    "                max_c = max(nc, max_c)\n",
    "                min_c = min(nc, min_c)\n",
    "            if nr > 0 and nr < len(mask) and nc > 0 and nc < len(mask[0]) and mask[nr][nc]:\n",
    "                mask[nr, nc] = False\n",
    "                q.append([nr, nc])\n",
    "    return [max_r, min_r, max_c, min_c]\n",
    "    \n",
    "class Image_processor:\n",
    "    def __init__(self, year, day):\n",
    "        self.day_path = \"/\".join([\"Images\", year + \"_\" + day, \"png\"])\n",
    "    \n",
    "    def process_single_image_cosmic_rays(self, image):\n",
    "        folder_name = self.day_path + \"/\" + image + \"_\" + \"processed\"\n",
    "        if not os.path.exists(folder_name):\n",
    "            os.mkdir(folder_name)\n",
    "        imgpath = self.day_path + \"/\" + image\n",
    "        imgpng = np.array(Image.open(imgpath).convert(\"L\"))\n",
    "        print(imgpng.shape)\n",
    "        (img, mask) = lacosmic.lacosmic(imgpng.astype(np.float), contrast=3.0, cr_threshold=3.75, \n",
    "                                        neighbor_threshold=0.3, effective_gain=1.0,\n",
    "                                        readnoise= 4.5, maxiter=1, border_mode=u'mirror',\n",
    "                                        background=None, mask=None, error=None)\n",
    "        \n",
    "        boxes = []\n",
    "        print(\"Getting bounding boxes\")\n",
    "        for r in range(len(mask)):\n",
    "            for c in range(len(mask[0])):\n",
    "                if mask[r, c]:\n",
    "                    boxes.append(get_bounding_box(r, c, mask))\n",
    "        \n",
    "        #im = Image.fromarray(np.where(mask == False, img, 0))#img)\n",
    "        print(\"Number of boxes: \" + str(len(boxes)))\n",
    "        im = Image.fromarray(img)\n",
    "        i = 1\n",
    "        for box in boxes:\n",
    "            for x in range(len(box)):\n",
    "                r = random.random()\n",
    "                if r < 0.15:\n",
    "                    box[x] += 10\n",
    "                if r >= 0.95:\n",
    "                    box[x] += + 15\n",
    "            [max_r, min_r, max_c, min_c] = box\n",
    "            cosmic_ray_candidate = Image.open(imgpath).crop((min_c, min_r, max_c, max_r)).convert(\"RGB\")\n",
    "            cosmic_ray_candidate.save(folder_name + \"/\" + str(i) + \".png\")#, format=\"png\")\n",
    "            i += 1\n",
    "    \n",
    "    def process_folder_cosmic_rays(self):\n",
    "        j = 0\n",
    "        m = len(os.listdir(self.day_path))\n",
    "        for file in os.listdir(self.day_path):\n",
    "#             print (str(j) + \"/\" + str(m))\n",
    "#             j += 1\n",
    "            if file.endswith(\".png\"):\n",
    "                self.process_single_image_cosmic_rays(file)\n",
    "                \n",
    "    def process_single_image_random_sample(self, image):\n",
    "        folder_name = self.day_path + \"/\" + image + \"_\" + \"processed\"\n",
    "        if not os.path.exists(folder_name):\n",
    "            os.mkdir(folder_name)\n",
    "        imgpath = self.day_path + \"/\" + image\n",
    "        img = Image.open(imgpath)\n",
    "        max_width, max_height = img.size\n",
    "        cols = np.random.randint(low = 1, high = max_width, size = 120)\n",
    "        rows = np.random.randint(low = 1, high = max_height, size = 120)\n",
    "        for i in range(120):\n",
    "            default_padding = 30\n",
    "            borders = [max(0, cols[i] - 30), max(0, rows[i] - 30), min(cols[i] + 30, max_width - 1), min(rows[i] + 30, max_height - 1)]\n",
    "            for x in range(len(borders)):\n",
    "                r = random.random()\n",
    "                if r < 0.15:\n",
    "                    borders[x] += 10\n",
    "                if r >= 0.95:\n",
    "                    borders[x] += + 15\n",
    "            random_img = img.crop((borders[0], borders[1], borders[2], borders[3])).convert(\"RGB\")\n",
    "            random_img.save(folder_name + \"/\" + str(i) + \".png\")\n",
    "\n",
    "    def process_folder_random_images(self):\n",
    "        j = 0\n",
    "        m = len(os.listdir(self.day_path))\n",
    "        for file in os.listdir(self.day_path):\n",
    "#             print (str(j) + \"/\" + str(m), end=\"\\r\", flush=True)\n",
    "#             j += 1\n",
    "            if file.endswith(\".png\"):\n",
    "                self.process_single_image_random_sample(file)\n",
    "    \n",
    "    def get_data_single_image(self, directory_path):\n",
    "        images = []\n",
    "        for file in os.listdir(directory_path):\n",
    "            img = Image.open(directory_path + \"/\" + file).resize((50, 50))\n",
    "            img = ImageEnhance.Contrast(img).enhance(3)\n",
    "            im = np.array(img, dtype=\"f\")\n",
    "            images.append(im)\n",
    "        return np.array(images, dtype=\"f\")\n",
    "    \n",
    "    def load_day(self):\n",
    "        samples = []\n",
    "        i = 0\n",
    "        j = len(os.listdir(self.day_path))\n",
    "        for file in os.listdir(self.day_path):\n",
    "            if file.endswith(\"_processed\"):\n",
    "                image_samples = self.get_data_single_image(self.day_path + \"/\" + file)\n",
    "                samples.extend(image_samples)\n",
    "            i += 1\n",
    "            print (str(i) + \"/\" + str(j), end=\"\\r\", flush=True)\n",
    "        return np.array(samples)"
   ]
  },
  {
   "cell_type": "code",
   "execution_count": 12,
   "metadata": {
    "scrolled": true
   },
   "outputs": [
    {
     "name": "stdout",
     "output_type": "stream",
     "text": [
      "(1024, 1024)\n",
      "INFO: Iteration 1: Found 1618 cosmic-ray pixels, Total: 1618 [lacosmic.lacosmic]\n",
      "Getting bounding boxes\n",
      "Number of boxes: 295\n",
      "(1024, 1024)\n",
      "INFO: Iteration 1: Found 1591 cosmic-ray pixels, Total: 1591 [lacosmic.lacosmic]\n",
      "Getting bounding boxes\n",
      "Number of boxes: 281\n",
      "(1024, 1024)\n",
      "INFO: Iteration 1: Found 1597 cosmic-ray pixels, Total: 1597 [lacosmic.lacosmic]\n",
      "Getting bounding boxes\n",
      "Number of boxes: 288\n",
      "(1024, 1024)\n",
      "INFO: Iteration 1: Found 473 cosmic-ray pixels, Total: 473 [lacosmic.lacosmic]\n",
      "Getting bounding boxes\n",
      "Number of boxes: 117\n",
      "(1024, 1024)\n",
      "INFO: Iteration 1: Found 607 cosmic-ray pixels, Total: 607 [lacosmic.lacosmic]\n",
      "Getting bounding boxes\n",
      "Number of boxes: 145\n",
      "(1024, 1024)\n",
      "INFO: Iteration 1: Found 542 cosmic-ray pixels, Total: 542 [lacosmic.lacosmic]\n",
      "Getting bounding boxes\n",
      "Number of boxes: 118\n",
      "(1024, 1024)\n",
      "INFO: Iteration 1: Found 555 cosmic-ray pixels, Total: 555 [lacosmic.lacosmic]\n",
      "Getting bounding boxes\n",
      "Number of boxes: 127\n",
      "(1024, 1024)\n",
      "INFO: Iteration 1: Found 524 cosmic-ray pixels, Total: 524 [lacosmic.lacosmic]\n",
      "Getting bounding boxes\n",
      "Number of boxes: 136\n",
      "(1024, 1024)\n",
      "INFO: Iteration 1: Found 1667 cosmic-ray pixels, Total: 1667 [lacosmic.lacosmic]\n",
      "Getting bounding boxes\n",
      "Number of boxes: 299\n",
      "(1024, 1024)\n",
      "INFO: Iteration 1: Found 1531 cosmic-ray pixels, Total: 1531 [lacosmic.lacosmic]\n",
      "Getting bounding boxes\n",
      "Number of boxes: 298\n",
      "(1024, 1024)\n",
      "INFO: Iteration 1: Found 1675 cosmic-ray pixels, Total: 1675 [lacosmic.lacosmic]\n",
      "Getting bounding boxes\n",
      "Number of boxes: 309\n",
      "(512, 512)\n",
      "INFO: Iteration 1: Found 568 cosmic-ray pixels, Total: 568 [lacosmic.lacosmic]\n",
      "Getting bounding boxes\n",
      "Number of boxes: 154\n",
      "(1024, 1024)\n",
      "INFO: Iteration 1: Found 1286 cosmic-ray pixels, Total: 1286 [lacosmic.lacosmic]\n",
      "Getting bounding boxes\n",
      "Number of boxes: 272\n",
      "(1024, 1024)\n",
      "INFO: Iteration 1: Found 344 cosmic-ray pixels, Total: 344 [lacosmic.lacosmic]\n",
      "Getting bounding boxes\n",
      "Number of boxes: 80\n",
      "(1024, 1024)\n",
      "INFO: Iteration 1: Found 278 cosmic-ray pixels, Total: 278 [lacosmic.lacosmic]\n",
      "Getting bounding boxes\n",
      "Number of boxes: 57\n",
      "(1024, 1024)\n",
      "INFO: Iteration 1: Found 401 cosmic-ray pixels, Total: 401 [lacosmic.lacosmic]\n",
      "Getting bounding boxes\n",
      "Number of boxes: 76\n",
      "(1024, 1024)\n",
      "INFO: Iteration 1: Found 247 cosmic-ray pixels, Total: 247 [lacosmic.lacosmic]\n",
      "Getting bounding boxes\n",
      "Number of boxes: 60\n",
      "(1024, 1024)\n",
      "INFO: Iteration 1: Found 283 cosmic-ray pixels, Total: 283 [lacosmic.lacosmic]\n",
      "Getting bounding boxes\n",
      "Number of boxes: 63\n",
      "(1024, 1024)\n",
      "INFO: Iteration 1: Found 296 cosmic-ray pixels, Total: 296 [lacosmic.lacosmic]\n",
      "Getting bounding boxes\n",
      "Number of boxes: 71\n",
      "(1024, 1024)\n",
      "INFO: Iteration 1: Found 316 cosmic-ray pixels, Total: 316 [lacosmic.lacosmic]\n",
      "Getting bounding boxes\n",
      "Number of boxes: 67\n",
      "(1024, 1024)\n",
      "INFO: Iteration 1: Found 316 cosmic-ray pixels, Total: 316 [lacosmic.lacosmic]\n",
      "Getting bounding boxes\n",
      "Number of boxes: 66\n",
      "(1024, 1024)\n",
      "INFO: Iteration 1: Found 290 cosmic-ray pixels, Total: 290 [lacosmic.lacosmic]\n",
      "Getting bounding boxes\n",
      "Number of boxes: 64\n",
      "(1024, 1024)\n",
      "INFO: Iteration 1: Found 341 cosmic-ray pixels, Total: 341 [lacosmic.lacosmic]\n",
      "Getting bounding boxes\n",
      "Number of boxes: 81\n",
      "(1024, 1024)\n",
      "INFO: Iteration 1: Found 309 cosmic-ray pixels, Total: 309 [lacosmic.lacosmic]\n",
      "Getting bounding boxes\n",
      "Number of boxes: 74\n",
      "(1024, 1024)\n",
      "INFO: Iteration 1: Found 280 cosmic-ray pixels, Total: 280 [lacosmic.lacosmic]\n",
      "Getting bounding boxes\n",
      "Number of boxes: 60\n",
      "(1024, 1024)\n",
      "INFO: Iteration 1: Found 283 cosmic-ray pixels, Total: 283 [lacosmic.lacosmic]\n",
      "Getting bounding boxes\n",
      "Number of boxes: 64\n",
      "(1024, 1024)\n",
      "INFO: Iteration 1: Found 274 cosmic-ray pixels, Total: 274 [lacosmic.lacosmic]\n",
      "Getting bounding boxes\n",
      "Number of boxes: 64\n",
      "(1024, 1024)\n",
      "INFO: Iteration 1: Found 328 cosmic-ray pixels, Total: 328 [lacosmic.lacosmic]\n",
      "Getting bounding boxes\n",
      "Number of boxes: 70\n",
      "(1024, 1024)\n",
      "INFO: Iteration 1: Found 75 cosmic-ray pixels, Total: 75 [lacosmic.lacosmic]\n",
      "Getting bounding boxes\n",
      "Number of boxes: 18\n",
      "(512, 512)\n",
      "INFO: Iteration 1: Found 2107 cosmic-ray pixels, Total: 2107 [lacosmic.lacosmic]\n",
      "Getting bounding boxes\n",
      "Number of boxes: 104\n",
      "(512, 512)\n",
      "INFO: Iteration 1: Found 2011 cosmic-ray pixels, Total: 2011 [lacosmic.lacosmic]\n",
      "Getting bounding boxes\n",
      "Number of boxes: 119\n",
      "(512, 512)\n",
      "INFO: Iteration 1: Found 362 cosmic-ray pixels, Total: 362 [lacosmic.lacosmic]\n",
      "Getting bounding boxes\n",
      "Number of boxes: 104\n",
      "(512, 512)\n",
      "INFO: Iteration 1: Found 339 cosmic-ray pixels, Total: 339 [lacosmic.lacosmic]\n",
      "Getting bounding boxes\n",
      "Number of boxes: 102\n",
      "(1024, 1024)\n",
      "INFO: Iteration 1: Found 1475 cosmic-ray pixels, Total: 1475 [lacosmic.lacosmic]\n",
      "Getting bounding boxes\n",
      "Number of boxes: 255\n",
      "(1024, 1024)\n",
      "INFO: Iteration 1: Found 1802 cosmic-ray pixels, Total: 1802 [lacosmic.lacosmic]\n",
      "Getting bounding boxes\n",
      "Number of boxes: 293\n",
      "(1024, 1024)\n",
      "INFO: Iteration 1: Found 1397 cosmic-ray pixels, Total: 1397 [lacosmic.lacosmic]\n",
      "Getting bounding boxes\n",
      "Number of boxes: 261\n",
      "(1024, 1024)\n",
      "INFO: Iteration 1: Found 1362 cosmic-ray pixels, Total: 1362 [lacosmic.lacosmic]\n",
      "Getting bounding boxes\n",
      "Number of boxes: 239\n",
      "(1024, 1024)\n",
      "INFO: Iteration 1: Found 1468 cosmic-ray pixels, Total: 1468 [lacosmic.lacosmic]\n",
      "Getting bounding boxes\n",
      "Number of boxes: 261\n",
      "(1024, 1024)\n",
      "INFO: Iteration 1: Found 1538 cosmic-ray pixels, Total: 1538 [lacosmic.lacosmic]\n",
      "Getting bounding boxes\n",
      "Number of boxes: 278\n",
      "(1024, 1024)\n",
      "INFO: Iteration 1: Found 1528 cosmic-ray pixels, Total: 1528 [lacosmic.lacosmic]\n",
      "Getting bounding boxes\n",
      "Number of boxes: 275\n",
      "(1024, 1024)\n",
      "INFO: Iteration 1: Found 1387 cosmic-ray pixels, Total: 1387 [lacosmic.lacosmic]\n",
      "Getting bounding boxes\n",
      "Number of boxes: 246\n",
      "(1024, 1024)\n",
      "INFO: Iteration 1: Found 1928 cosmic-ray pixels, Total: 1928 [lacosmic.lacosmic]\n",
      "Getting bounding boxes\n",
      "Number of boxes: 326\n",
      "(1024, 1024)\n",
      "INFO: Iteration 1: Found 1895 cosmic-ray pixels, Total: 1895 [lacosmic.lacosmic]\n",
      "Getting bounding boxes\n",
      "Number of boxes: 311\n",
      "(1024, 1024)\n",
      "INFO: Iteration 1: Found 1931 cosmic-ray pixels, Total: 1931 [lacosmic.lacosmic]\n",
      "Getting bounding boxes\n",
      "Number of boxes: 297\n",
      "(1024, 1024)\n",
      "INFO: Iteration 1: Found 1693 cosmic-ray pixels, Total: 1693 [lacosmic.lacosmic]\n",
      "Getting bounding boxes\n",
      "Number of boxes: 287\n",
      "(1024, 1024)\n",
      "INFO: Iteration 1: Found 1688 cosmic-ray pixels, Total: 1688 [lacosmic.lacosmic]\n",
      "Getting bounding boxes\n",
      "Number of boxes: 305\n",
      "(1024, 1024)\n",
      "INFO: Iteration 1: Found 1777 cosmic-ray pixels, Total: 1777 [lacosmic.lacosmic]\n",
      "Getting bounding boxes\n",
      "Number of boxes: 298\n",
      "(1024, 1024)\n",
      "INFO: Iteration 1: Found 1793 cosmic-ray pixels, Total: 1793 [lacosmic.lacosmic]\n",
      "Getting bounding boxes\n",
      "Number of boxes: 300\n",
      "(1024, 1024)\n",
      "INFO: Iteration 1: Found 1719 cosmic-ray pixels, Total: 1719 [lacosmic.lacosmic]\n",
      "Getting bounding boxes\n",
      "Number of boxes: 293\n",
      "(1024, 1024)\n",
      "INFO: Iteration 1: Found 1839 cosmic-ray pixels, Total: 1839 [lacosmic.lacosmic]\n",
      "Getting bounding boxes\n",
      "Number of boxes: 289\n",
      "(1024, 1024)\n",
      "INFO: Iteration 1: Found 1586 cosmic-ray pixels, Total: 1586 [lacosmic.lacosmic]\n",
      "Getting bounding boxes\n",
      "Number of boxes: 285\n",
      "(1024, 1024)\n",
      "INFO: Iteration 1: Found 1767 cosmic-ray pixels, Total: 1767 [lacosmic.lacosmic]\n",
      "Getting bounding boxes\n",
      "Number of boxes: 277\n",
      "(1024, 1024)\n",
      "INFO: Iteration 1: Found 1722 cosmic-ray pixels, Total: 1722 [lacosmic.lacosmic]\n",
      "Getting bounding boxes\n",
      "Number of boxes: 317\n",
      "(1024, 1024)\n",
      "INFO: Iteration 1: Found 1559 cosmic-ray pixels, Total: 1559 [lacosmic.lacosmic]\n",
      "Getting bounding boxes\n",
      "Number of boxes: 281\n",
      "(1024, 1024)\n",
      "INFO: Iteration 1: Found 1468 cosmic-ray pixels, Total: 1468 [lacosmic.lacosmic]\n",
      "Getting bounding boxes\n",
      "Number of boxes: 275\n",
      "(1024, 1024)\n",
      "INFO: Iteration 1: Found 1843 cosmic-ray pixels, Total: 1843 [lacosmic.lacosmic]\n",
      "Getting bounding boxes\n",
      "Number of boxes: 312\n",
      "(1024, 1024)\n",
      "INFO: Iteration 1: Found 1519 cosmic-ray pixels, Total: 1519 [lacosmic.lacosmic]\n",
      "Getting bounding boxes\n",
      "Number of boxes: 263\n",
      "(512, 512)\n",
      "INFO: Iteration 1: Found 458 cosmic-ray pixels, Total: 458 [lacosmic.lacosmic]\n",
      "Getting bounding boxes\n",
      "Number of boxes: 86\n",
      "(1024, 1024)\n",
      "INFO: Iteration 1: Found 346 cosmic-ray pixels, Total: 346 [lacosmic.lacosmic]\n",
      "Getting bounding boxes\n",
      "Number of boxes: 78\n",
      "(1024, 1024)\n",
      "INFO: Iteration 1: Found 190 cosmic-ray pixels, Total: 190 [lacosmic.lacosmic]\n",
      "Getting bounding boxes\n",
      "Number of boxes: 45\n"
     ]
    },
    {
     "name": "stdout",
     "output_type": "stream",
     "text": [
      "(1024, 1024)\n",
      "INFO: Iteration 1: Found 1677 cosmic-ray pixels, Total: 1677 [lacosmic.lacosmic]\n",
      "Getting bounding boxes\n",
      "Number of boxes: 157\n",
      "(1024, 1024)\n",
      "INFO: Iteration 1: Found 3683 cosmic-ray pixels, Total: 3683 [lacosmic.lacosmic]\n",
      "Getting bounding boxes\n",
      "Number of boxes: 128\n",
      "(1024, 1024)\n",
      "INFO: Iteration 1: Found 3797 cosmic-ray pixels, Total: 3797 [lacosmic.lacosmic]\n",
      "Getting bounding boxes\n",
      "Number of boxes: 136\n",
      "(1024, 1024)\n",
      "INFO: Iteration 1: Found 741 cosmic-ray pixels, Total: 741 [lacosmic.lacosmic]\n",
      "Getting bounding boxes\n",
      "Number of boxes: 118\n",
      "(1024, 1024)\n",
      "INFO: Iteration 1: Found 575 cosmic-ray pixels, Total: 575 [lacosmic.lacosmic]\n",
      "Getting bounding boxes\n",
      "Number of boxes: 98\n",
      "(1024, 1024)\n",
      "INFO: Iteration 1: Found 222 cosmic-ray pixels, Total: 222 [lacosmic.lacosmic]\n",
      "Getting bounding boxes\n",
      "Number of boxes: 56\n",
      "(1024, 1024)\n",
      "INFO: Iteration 1: Found 196 cosmic-ray pixels, Total: 196 [lacosmic.lacosmic]\n",
      "Getting bounding boxes\n",
      "Number of boxes: 45\n",
      "(1024, 1024)\n",
      "INFO: Iteration 1: Found 156 cosmic-ray pixels, Total: 156 [lacosmic.lacosmic]\n",
      "Getting bounding boxes\n",
      "Number of boxes: 39\n",
      "(1024, 1024)\n",
      "INFO: Iteration 1: Found 2939 cosmic-ray pixels, Total: 2939 [lacosmic.lacosmic]\n",
      "Getting bounding boxes\n",
      "Number of boxes: 152\n",
      "(1024, 1024)\n",
      "INFO: Iteration 1: Found 5987 cosmic-ray pixels, Total: 5987 [lacosmic.lacosmic]\n",
      "Getting bounding boxes\n",
      "Number of boxes: 112\n",
      "(1024, 1024)\n",
      "INFO: Iteration 1: Found 4667 cosmic-ray pixels, Total: 4667 [lacosmic.lacosmic]\n",
      "Getting bounding boxes\n",
      "Number of boxes: 123\n",
      "(1024, 1024)\n",
      "INFO: Iteration 1: Found 2188 cosmic-ray pixels, Total: 2188 [lacosmic.lacosmic]\n",
      "Getting bounding boxes\n",
      "Number of boxes: 118\n",
      "(1024, 1024)\n",
      "INFO: Iteration 1: Found 638 cosmic-ray pixels, Total: 638 [lacosmic.lacosmic]\n",
      "Getting bounding boxes\n",
      "Number of boxes: 94\n",
      "(1024, 1024)\n",
      "INFO: Iteration 1: Found 284 cosmic-ray pixels, Total: 284 [lacosmic.lacosmic]\n",
      "Getting bounding boxes\n",
      "Number of boxes: 63\n",
      "(1024, 1024)\n",
      "INFO: Iteration 1: Found 281 cosmic-ray pixels, Total: 281 [lacosmic.lacosmic]\n",
      "Getting bounding boxes\n",
      "Number of boxes: 68\n",
      "Cosmic ray samples:  12843\n",
      "Non-cosmic ray samples:  15000\n"
     ]
    }
   ],
   "source": [
    "i_cosmic_ray = Image_processor(\"2011\", \"156\")\n",
    "i_cosmic_ray.process_folder_cosmic_rays()\n",
    "cosmic_ray_data = i_cosmic_ray.load_day()\n",
    "i_non_cosmic_ray = Image_processor(\"2011\", \"207\")\n",
    "i_non_cosmic_ray.process_folder_random_images()\n",
    "non_cosmic_ray_data = i_non_cosmic_ray.load_day()\n",
    "print(\"Cosmic ray samples: \" , len(cosmic_ray_data))\n",
    "print(\"Non-cosmic ray samples: \", len(non_cosmic_ray_data))"
   ]
  },
  {
   "cell_type": "code",
   "execution_count": 13,
   "metadata": {},
   "outputs": [
    {
     "name": "stdout",
     "output_type": "stream",
     "text": [
      "Training data shape:  (22275, 50, 50, 3)\n",
      "Test data shape:  (5568, 50, 50, 3)\n"
     ]
    }
   ],
   "source": [
    "#Prepare data for classification\n",
    "data = np.concatenate((non_cosmic_ray_data, cosmic_ray_data), axis = 0) / 255.0\n",
    "labels = np.zeros(data.shape[0])\n",
    "labels[:non_cosmic_ray_data.shape[0]] = 0\n",
    "labels[non_cosmic_ray_data.shape[0]:] = 1\n",
    "indecies = np.arange(data.shape[0])\n",
    "np.random.shuffle(indecies)\n",
    "labels = labels[indecies]\n",
    "data = data[indecies]\n",
    "\n",
    "#Leave 1/5 of data for testing\n",
    "slice_index = int(labels.shape[0] / 5)\n",
    "training_data = data[slice_index:]\n",
    "training_labels = labels[slice_index:]\n",
    "test_data = data[:slice_index]\n",
    "test_labels = labels[:slice_index]\n",
    "print(\"Training data shape: \", training_data.shape)\n",
    "print(\"Test data shape: \", test_data.shape)\n",
    "# Image.fromarray((training_data[25] * 255).astype(np.uint8)).show()"
   ]
  },
  {
   "cell_type": "markdown",
   "metadata": {},
   "source": [
    "# Step 3 – Machine Learning Algorithm\n",
    "\n",
    "The following CNN model is to be used for binary classification, where 1 is the label for cosmic rays and 0 is the label for non-cosmic ray images."
   ]
  },
  {
   "cell_type": "code",
   "execution_count": 14,
   "metadata": {
    "scrolled": true
   },
   "outputs": [
    {
     "name": "stdout",
     "output_type": "stream",
     "text": [
      "[[0.49872598]]\n",
      "Model: \"sequential\"\n",
      "_________________________________________________________________\n",
      "Layer (type)                 Output Shape              Param #   \n",
      "=================================================================\n",
      "conv2d (Conv2D)              (None, 48, 48, 32)        896       \n",
      "_________________________________________________________________\n",
      "max_pooling2d (MaxPooling2D) (None, 24, 24, 32)        0         \n",
      "_________________________________________________________________\n",
      "conv2d_1 (Conv2D)            (None, 22, 22, 64)        18496     \n",
      "_________________________________________________________________\n",
      "max_pooling2d_1 (MaxPooling2 (None, 11, 11, 64)        0         \n",
      "_________________________________________________________________\n",
      "flatten (Flatten)            (None, 7744)              0         \n",
      "_________________________________________________________________\n",
      "dense (Dense)                (None, 128)               991360    \n",
      "_________________________________________________________________\n",
      "dense_1 (Dense)              (None, 1)                 129       \n",
      "=================================================================\n",
      "Total params: 1,010,881\n",
      "Trainable params: 1,010,881\n",
      "Non-trainable params: 0\n",
      "_________________________________________________________________\n",
      "None\n"
     ]
    }
   ],
   "source": [
    "def build_cnn_model():\n",
    "    cnn_model = tf.keras.Sequential([\n",
    "        tf.keras.layers.Conv2D(filters=32, kernel_size=(3,3), activation=tf.nn.relu),\n",
    "        tf.keras.layers.MaxPool2D(pool_size=(2,2)),\n",
    "        tf.keras.layers.Conv2D(filters=64, kernel_size=(3,3), activation=tf.nn.relu),\n",
    "        tf.keras.layers.MaxPool2D(pool_size=(2,2)),\n",
    "        tf.keras.layers.Flatten(),\n",
    "        tf.keras.layers.Dense(128, activation=tf.nn.relu),\n",
    "        tf.keras.layers.Dense(1, activation=tf.nn.sigmoid)\n",
    "    ])\n",
    "    return cnn_model\n",
    "    \n",
    "cnn_model = build_cnn_model()\n",
    "# print(training_data[0].shape)\n",
    "print(cnn_model.predict(training_data[[0]]))\n",
    "print(cnn_model.summary())"
   ]
  },
  {
   "cell_type": "code",
   "execution_count": 15,
   "metadata": {},
   "outputs": [
    {
     "name": "stdout",
     "output_type": "stream",
     "text": [
      "Epoch 1/5\n",
      "23/23 [==============================] - 24s 1s/step - loss: 0.5779 - accuracy: 0.5768\n",
      "Epoch 2/5\n",
      "23/23 [==============================] - 24s 1s/step - loss: 0.3229 - accuracy: 0.8537\n",
      "Epoch 3/5\n",
      "23/23 [==============================] - 24s 1s/step - loss: 0.2584 - accuracy: 0.9030\n",
      "Epoch 4/5\n",
      "23/23 [==============================] - 23s 1s/step - loss: 0.2081 - accuracy: 0.9319\n",
      "Epoch 5/5\n",
      "23/23 [==============================] - 23s 994ms/step - loss: 0.1648 - accuracy: 0.9479\n"
     ]
    },
    {
     "data": {
      "text/plain": [
       "<tensorflow.python.keras.callbacks.History at 0x1e78791e520>"
      ]
     },
     "execution_count": 15,
     "metadata": {},
     "output_type": "execute_result"
    }
   ],
   "source": [
    "cnn_model.compile(optimizer=tf.keras.optimizers.Adam(learning_rate=0.0005),\n",
    "              loss='binary_crossentropy',\n",
    "              metrics=['accuracy'])\n",
    "cnn_model.fit(x=training_data, y=training_labels, batch_size = 1000, epochs=5)"
   ]
  },
  {
   "cell_type": "code",
   "execution_count": 16,
   "metadata": {},
   "outputs": [
    {
     "name": "stdout",
     "output_type": "stream",
     "text": [
      "174/174 [==============================] - 2s 9ms/step - loss: 0.1297 - accuracy: 0.9558\n",
      "Test accuracy 0.9558189511299133\n",
      "Test loss 0.12965622544288635\n"
     ]
    }
   ],
   "source": [
    "test_loss, test_acc = cnn_model.evaluate(test_data, test_labels)\n",
    "\n",
    "print(\"Test accuracy\", test_acc)\n",
    "print(\"Test loss\", test_loss)"
   ]
  },
  {
   "cell_type": "markdown",
   "metadata": {},
   "source": [
    "# Pipeline for ingesting a single image\n",
    "\n",
    "The current network can be used to identify tiles that potentially contain cosmic rays. The is segmented into 50x50 tiles. Only tiles with labeled with a value above a threshold are identified as a cosmic ray and displayed."
   ]
  },
  {
   "cell_type": "code",
   "execution_count": 17,
   "metadata": {},
   "outputs": [
    {
     "name": "stdout",
     "output_type": "stream",
     "text": [
      "Original image:\n",
      "[[0.736446]]\n"
     ]
    },
    {
     "data": {
      "image/png": "[encoded data removed]",
      "text/plain": [
       "<Figure size 432x288 with 1 Axes>"
      ]
     },
     "metadata": {
      "needs_background": "light"
     },
     "output_type": "display_data"
    },
    {
     "data": {
      "image/png": "[encoded data removed]",
      "text/plain": [
       "<Figure size 432x288 with 1 Axes>"
      ]
     },
     "metadata": {
      "needs_background": "light"
     },
     "output_type": "display_data"
    }
   ],
   "source": [
    "def ingest_image(image_png_path, threshold = 0.6):\n",
    "    image = Image.open(image_png_path)\n",
    "    print(\"Original image:\")\n",
    "    plt.figure()\n",
    "    plt.axis('off')\n",
    "    plt.imshow(np.asarray(image), cmap=\"gray\", vmin=0, vmax=255)\n",
    "    width, height = image.size\n",
    "    length = 50\n",
    "    window = 50\n",
    "    r = 0\n",
    "    c = 0\n",
    "    while r < height:\n",
    "        c = 0\n",
    "        while c < width:\n",
    "            im = image.crop((c, r, min(c + length, width), min(r + length, height))).resize((length, length)).convert(\"RGB\")\n",
    "            im = ImageEnhance.Contrast(im).enhance(4)\n",
    "            arr = np.array(im) / 255.0\n",
    "            ar = np.expand_dims(arr, axis=0)\n",
    "            prediction = cnn_model.predict(ar)\n",
    "#             print(prediction)\n",
    "            if (prediction[0] > threshold):\n",
    "                print(prediction)\n",
    "                plt.figure()\n",
    "                plt.axis('off')\n",
    "                plt.imshow(np.asarray(im), cmap=\"gray\", vmin=0, vmax=255)\n",
    "            c += window\n",
    "        r += window\n",
    "\n",
    "ingest_image(\"/\".join([\"Images\", \"2014_215\", \"png\", \"EN1049375684M.IMG.png\"]))"
   ]
  },
  {
   "cell_type": "code",
   "execution_count": null,
   "metadata": {},
   "outputs": [],
   "source": []
  }
 ],
 "metadata": {
  "kernelspec": {
   "display_name": "Python 3",
   "language": "python",
   "name": "python3"
  },
  "language_info": {
   "codemirror_mode": {
    "name": "ipython",
    "version": 3
   },
   "file_extension": ".py",
   "mimetype": "text/x-python",
   "name": "python",
   "nbconvert_exporter": "python",
   "pygments_lexer": "ipython3",
   "version": "3.8.2"
  }
 },
 "nbformat": 4,
 "nbformat_minor": 2
}
